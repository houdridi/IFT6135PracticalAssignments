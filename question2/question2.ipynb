{
 "cells": [
  {
   "cell_type": "markdown",
   "metadata": {},
   "source": [
    "# IFT 6135 - W2019 - Assignment 1\n",
    "## Question 2 - CNN for MNIST\n",
    "__Assignment Instructions:__ https://www.overleaf.com/read/msxwmbbvfxrd  \n",
    "__Github Repository:__ https://github.com/stefanwapnick/IFT6135PracticalAssignments  \n",
    "__Developed in Python 3__  \n",
    "  \n",
    "__Team Members__:  \n",
    "  \n",
    "* Mohamed Amine (id 20150893) (Q2)\n",
    "* Oussema Keskes (id 20145195) (Q3)\n",
    "* Stephan Tran (id 20145195) (Q3)\n",
    "* Stefan Wapnick (id 20143021) (Q1)"
   ]
  },
  {
   "cell_type": "markdown",
   "metadata": {},
   "source": [
    "# Part 1 - CNN Model"
   ]
  },
  {
   "cell_type": "markdown",
   "metadata": {},
   "source": [
    "###  Methodology \n",
    "A CNN model using keras and tensorflow is implemented for application on the MNIST dataset consisting of 2 series of convolutional and max pooling layers. A final dense and softmax layer for classification terminate the CNN. The following sections further describe the methodology followed for data preprocessing and hyper-parameter tuning."
   ]
  },
  {
   "cell_type": "code",
   "execution_count": 4,
   "metadata": {},
   "outputs": [],
   "source": [
    "from tensorflow import keras\n",
    "from tensorflow.keras.datasets import mnist\n",
    "from tensorflow.keras.models import Sequential\n",
    "from tensorflow.keras.layers import Dense, Dropout\n",
    "from tensorflow.keras.layers import Flatten,  MaxPooling2D, Conv2D\n",
    "from sklearn.model_selection import train_test_split\n",
    "from tensorflow.python.keras.optimizers import sgd\n",
    "import matplotlib.pyplot as plt\n",
    "import pandas as pd"
   ]
  },
  {
   "cell_type": "markdown",
   "metadata": {},
   "source": [
    "### Data Preprocessing\n",
    "The MNIST dataset is loaded. This dataset consists of 10 classes (digits) and 28x28 input images (or equivalently a 784 1d vector). Labels are one-hot encoded. The standard train/dev/test split of 50k/10k/10k recommended in the assignment 1 started code was used."
   ]
  },
  {
   "cell_type": "code",
   "execution_count": 5,
   "metadata": {},
   "outputs": [
    {
     "name": "stdout",
     "output_type": "stream",
     "text": [
      "Size of:\n",
      "- Training-set:\t\t50000\n",
      "- Validation-set:\t10000\n",
      "- Test-set:\t\t10000\n",
      " Shape of train target set:(50000, 10)\n"
     ]
    }
   ],
   "source": [
    "(x_train, y_train), (x_test, y_test) = mnist.load_data()\n",
    "x_train = x_train.reshape(60000, 28, 28, 1).astype('float32') / 255\n",
    "x_test = x_test.reshape(10000, 28, 28, 1).astype('float32') / 255\n",
    "n_classes = 10\n",
    "y_train = keras.utils.to_categorical(y_train, n_classes)\n",
    "y_test = keras.utils.to_categorical(y_test, n_classes)\n",
    "x_train, x_val, y_train, y_val = train_test_split(x_train, y_train, test_size=1/6, random_state=1)\n",
    "\n",
    "print(\"Size of:\")\n",
    "print(\"- Training-set:\\t\\t{}\".format(x_train.shape[0]))\n",
    "print(\"- Validation-set:\\t{}\".format(x_val.shape[0]))\n",
    "print(\"- Test-set:\\t\\t{}\".format(x_test.shape[0]))\n",
    "print(\" Shape of train target set:{}\".format(y_train.shape))"
   ]
  },
  {
   "cell_type": "markdown",
   "metadata": {},
   "source": [
    "###  Hyperparameter Search\n",
    "Hyper-parameters are briefly tuned on the validation dataset for model selection. The training and validation accuracies and losses are reported. The following parameters are tested:\n",
    "\n",
    "| Parameter | Value   |\n",
    "|------|------|\n",
    "|   learning rate  | 0.05, 0.01|\n",
    "|   batch size  | 128, 256|\n",
    "|   layer dimensions (conv1, conv2, dense)  | (128, 256, 64), (64, 150, 128)|\n"
   ]
  },
  {
   "cell_type": "code",
   "execution_count": 6,
   "metadata": {},
   "outputs": [],
   "source": [
    "def create_model(learning_rate=0.001, layer_dims=[128, 256, 64]):\n",
    "    model = Sequential()\n",
    "    model.add(Conv2D(layer_dims[0], kernel_size=(5, 5), activation='relu', input_shape=(28, 28, 1)))\n",
    "    model.add(MaxPooling2D(pool_size=(2, 2)))\n",
    "    model.add(Conv2D(layer_dims[1], kernel_size=(3, 3), activation='relu'))\n",
    "    model.add(MaxPooling2D(pool_size=(2, 2)))\n",
    "    model.add(Flatten())\n",
    "    model.add(Dense(layer_dims[2], activation='relu'))\n",
    "    model.add(Dense(n_classes, activation='softmax'))\n",
    "    model.compile(loss='categorical_crossentropy', optimizer=sgd(lr=learning_rate), metrics=['accuracy'])\n",
    "    return model"
   ]
  },
  {
   "cell_type": "code",
   "execution_count": 7,
   "metadata": {},
   "outputs": [
    {
     "name": "stdout",
     "output_type": "stream",
     "text": [
      "\n",
      "Hyper-Parameter Search:\n",
      "Batch_size=128, learning_rate=0.050000, dims=[128, 256, 64], val-acc=0.986400\n",
      "Batch_size=128, learning_rate=0.050000, dims=[64, 150, 128], val-acc=0.983700\n",
      "Batch_size=128, learning_rate=0.010000, dims=[128, 256, 64], val-acc=0.972600\n",
      "Batch_size=128, learning_rate=0.010000, dims=[64, 150, 128], val-acc=0.971500\n",
      "Batch_size=256, learning_rate=0.050000, dims=[128, 256, 64], val-acc=0.980700\n",
      "Batch_size=256, learning_rate=0.050000, dims=[64, 150, 128], val-acc=0.982700\n",
      "Batch_size=256, learning_rate=0.010000, dims=[128, 256, 64], val-acc=0.962100\n",
      "Batch_size=256, learning_rate=0.010000, dims=[64, 150, 128], val-acc=0.951500\n",
      "\n",
      "BEST MODEL: Batch_size=128, learning_rate=0.050000, dims=[128, 256, 64], val-acc=0.986400\n",
      "   val_loss  val_acc      loss      acc\n",
      "0  0.140735   0.9593  0.516678  0.84516\n",
      "1  0.109671   0.9664  0.116625  0.96494\n",
      "2  0.083642   0.9750  0.082670  0.97522\n",
      "3  0.072500   0.9766  0.066031  0.98016\n",
      "4  0.073429   0.9778  0.056796  0.98298\n",
      "5  0.063924   0.9801  0.048702  0.98550\n",
      "6  0.056722   0.9838  0.042981  0.98724\n",
      "7  0.053344   0.9834  0.038480  0.98826\n",
      "8  0.056751   0.9838  0.035274  0.98884\n",
      "9  0.048227   0.9864  0.031436  0.99048\n",
      "_________________________________________________________________\n",
      "Layer (type)                 Output Shape              Param #   \n",
      "=================================================================\n",
      "conv2d (Conv2D)              (None, 24, 24, 128)       3328      \n",
      "_________________________________________________________________\n",
      "max_pooling2d (MaxPooling2D) (None, 12, 12, 128)       0         \n",
      "_________________________________________________________________\n",
      "conv2d_1 (Conv2D)            (None, 10, 10, 256)       295168    \n",
      "_________________________________________________________________\n",
      "max_pooling2d_1 (MaxPooling2 (None, 5, 5, 256)         0         \n",
      "_________________________________________________________________\n",
      "flatten (Flatten)            (None, 6400)              0         \n",
      "_________________________________________________________________\n",
      "dense (Dense)                (None, 64)                409664    \n",
      "_________________________________________________________________\n",
      "dense_1 (Dense)              (None, 10)                650       \n",
      "=================================================================\n",
      "Total params: 708,810\n",
      "Trainable params: 708,810\n",
      "Non-trainable params: 0\n",
      "_________________________________________________________________\n"
     ]
    }
   ],
   "source": [
    "batch_sizes = [128, 256]\n",
    "learning_rates = [0.05, 0.01]\n",
    "layer_dims = [[128, 256, 64], [64, 150, 128]]\n",
    "params = [(batch, alpha, dims) for batch in batch_sizes for alpha in learning_rates for dims in layer_dims]\n",
    "best_model = None\n",
    "\n",
    "print(\"\\nHyper-Parameter Search:\")\n",
    "for (batch_size, learning_rate, dims) in params:\n",
    "    model = create_model(learning_rate, dims)\n",
    "    history = model.fit(x_train, y_train, batch_size=batch_size, epochs=10, verbose=0, validation_data=(x_val, y_val))\n",
    "    print(\"Batch_size=%d, learning_rate=%f, dims=%s, val-acc=%f\" % (batch_size, learning_rate, dims, history.history['val_acc'][-1]))\n",
    "    if best_model is None or history.history['val_acc'][-1] > best_model[0].history['val_acc'][-1]:\n",
    "        best_model = (history, model, (batch_size, learning_rate, dims))\n",
    "\n",
    "history, model, stats = best_model\n",
    "print(\"\\nBEST MODEL: Batch_size=%d, learning_rate=%f, dims=%s, val-acc=%f\" % (*stats, history.history['val_acc'][-1]))\n",
    "print(pd.DataFrame(history.history))\n",
    "model.summary()\n"
   ]
  },
  {
   "cell_type": "markdown",
   "metadata": {},
   "source": [
    "### Plots"
   ]
  },
  {
   "cell_type": "code",
   "execution_count": 8,
   "metadata": {},
   "outputs": [
    {
     "data": {
      "image/png": "[encoded data removed]",
      "text/plain": [
       "<Figure size 432x288 with 1 Axes>"
      ]
     },
     "metadata": {
      "needs_background": "light"
     },
     "output_type": "display_data"
    },
    {
     "data": {
      "image/png": "[encoded data removed]",
      "text/plain": [
       "<Figure size 432x288 with 1 Axes>"
      ]
     },
     "metadata": {
      "needs_background": "light"
     },
     "output_type": "display_data"
    }
   ],
   "source": [
    "plt.plot(history.history['acc'])\n",
    "plt.plot(history.history['val_acc'])\n",
    "plt.title('Accuracy Vs. Epochs\\nModel: Batch_size=%d, learning_rate=%f, dims=%s' % (*stats,))\n",
    "plt.ylabel('Accuracy')\n",
    "plt.xlabel('Epoch')\n",
    "plt.legend(['Training Set', 'Validation Set'])\n",
    "plt.show()\n",
    "\n",
    "plt.plot(history.history['loss'])\n",
    "plt.plot(history.history['val_loss'])\n",
    "plt.title('Loss Vs. Epochs\\nModel: Batch_size=%d, learning_rate=%f, dims=%s' % (*stats,))\n",
    "plt.ylabel('Loss')\n",
    "plt.legend(['Training Set', 'Validation Set'])\n",
    "plt.xlabel('Epoch')\n",
    "plt.show()"
   ]
  },
  {
   "cell_type": "markdown",
   "metadata": {},
   "source": [
    "### Test Set Results\n",
    "Now the sequential model is evaluated using the test set. The accuracy and the loss are shown below."
   ]
  },
  {
   "cell_type": "code",
   "execution_count": 9,
   "metadata": {},
   "outputs": [
    {
     "name": "stdout",
     "output_type": "stream",
     "text": [
      "10000/10000 [==============================] - 1s 78us/step\n",
      "Test Set Results:\n",
      "loss 0.03629222674376797\n",
      "acc 0.9869\n"
     ]
    }
   ],
   "source": [
    "result = model.evaluate(x_test, y_test)\n",
    "print('Test Set Results:')\n",
    "for name, value in zip(model.metrics_names, result):\n",
    "    print(name, value)"
   ]
  },
  {
   "cell_type": "markdown",
   "metadata": {},
   "source": [
    "# Part 2 - Comparison to MLP Discussion"
   ]
  },
  {
   "cell_type": "markdown",
   "metadata": {},
   "source": [
    "The CNN model achives an accuracy of approximately 1% higher than the MLP designed in question 1 (approx. 97.5% vs. 98.5%) when tested on the validation set. Although a small quantity, in the context of the MNIST dataset where overall accuracy values are high, it is significant.  \n",
    "CNNs are particular adept at processing images given that the convolution operator, with various learned kernels, can be tuned to detect various patterns in an image. These patterns encoded in trained kernel weights begin as simple edges and curves but build in into more complex recognition patterns in later layers. In this way, a CNN can better analyze an image. Conversely, a MLP simply examines pixel by pixel and so is less apt at determining overall patterns."
   ]
  },
  {
   "cell_type": "code",
   "execution_count": null,
   "metadata": {},
   "outputs": [],
   "source": []
  }
 ],
 "metadata": {
  "kernelspec": {
   "display_name": "Python 3",
   "language": "python",
   "name": "python3"
  },
  "language_info": {
   "codemirror_mode": {
    "name": "ipython",
    "version": 3
   },
   "file_extension": ".py",
   "mimetype": "text/x-python",
   "name": "python",
   "nbconvert_exporter": "python",
   "pygments_lexer": "ipython3",
   "version": "3.6.5"
  }
 },
 "nbformat": 4,
 "nbformat_minor": 2
}
