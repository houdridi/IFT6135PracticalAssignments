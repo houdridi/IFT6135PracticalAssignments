{
 "cells": [
  {
   "cell_type": "markdown",
   "metadata": {},
   "source": [
    "# 1) CNN Model"
   ]
  },
  {
   "cell_type": "markdown",
   "metadata": {},
   "source": [
    "##  Packages Importation and Initialization"
   ]
  },
  {
   "cell_type": "markdown",
   "metadata": {},
   "source": [
    "###  Importation of tensorflow, numpy and keras"
   ]
  },
  {
   "cell_type": "code",
   "execution_count": 1,
   "metadata": {},
   "outputs": [],
   "source": [
    "import tensorflow as tf\n",
    "import numpy as np\n",
    "\n",
    "from tensorflow.python.keras.models import Sequential\n",
    "from tensorflow.python.keras.layers import InputLayer, Input\n",
    "from tensorflow.python.keras.layers import Reshape, MaxPooling2D\n",
    "from tensorflow.python.keras.layers import Conv2D, Dense, Flatten\n",
    "from tensorflow.python.keras.optimizers import sgd\n",
    "from sklearn.model_selection import train_test_split"
   ]
  },
  {
   "cell_type": "code",
   "execution_count": 2,
   "metadata": {},
   "outputs": [
    {
     "name": "stderr",
     "output_type": "stream",
     "text": [
      "Using TensorFlow backend.\n"
     ]
    }
   ],
   "source": [
    "from keras.datasets import mnist\n",
    "(xx, yy), (x_test, y_test) = mnist.load_data()"
   ]
  },
  {
   "cell_type": "markdown",
   "metadata": {},
   "source": [
    "### Sizes of training, validation and test sets"
   ]
  },
  {
   "cell_type": "code",
   "execution_count": 3,
   "metadata": {},
   "outputs": [],
   "source": [
    "x_train, x_val, y_train, y_val = train_test_split(xx, yy, test_size=1/6, random_state=42)"
   ]
  },
  {
   "cell_type": "code",
   "execution_count": 4,
   "metadata": {},
   "outputs": [
    {
     "name": "stdout",
     "output_type": "stream",
     "text": [
      "Size of:\n",
      "- Training-set:\t\t50000\n",
      "- Validation-set:\t10000\n",
      "- Test-set:\t\t10000\n",
      " Shape of train target set:(50000,)\n"
     ]
    }
   ],
   "source": [
    "print(\"Size of:\")\n",
    "print(\"- Training-set:\\t\\t{}\".format(x_train.shape[0]))\n",
    "print(\"- Validation-set:\\t{}\".format(x_val.shape[0]))\n",
    "print(\"- Test-set:\\t\\t{}\".format(x_test.shape[0]))\n",
    "print(\" Shape of train target set:{}\".format(y_train.shape))"
   ]
  },
  {
   "cell_type": "markdown",
   "metadata": {},
   "source": [
    "### One hot encoding on _y_train_"
   ]
  },
  {
   "cell_type": "code",
   "execution_count": 5,
   "metadata": {},
   "outputs": [
    {
     "data": {
      "text/plain": [
       "(50000, 10)"
      ]
     },
     "execution_count": 5,
     "metadata": {},
     "output_type": "execute_result"
    }
   ],
   "source": [
    "from sklearn.preprocessing import OneHotEncoder\n",
    "enc = OneHotEncoder()\n",
    "enc.fit(y_train.reshape(-1, 1))\n",
    "y_train_onehot = enc.transform(y_train.reshape(-1, 1)).toarray()\n",
    "y_train_onehot.shape"
   ]
  },
  {
   "cell_type": "markdown",
   "metadata": {},
   "source": [
    "### One hot encoding on _y_val_"
   ]
  },
  {
   "cell_type": "code",
   "execution_count": 19,
   "metadata": {},
   "outputs": [
    {
     "data": {
      "text/plain": [
       "(10000, 10)"
      ]
     },
     "execution_count": 19,
     "metadata": {},
     "output_type": "execute_result"
    }
   ],
   "source": [
    "enc = OneHotEncoder()\n",
    "enc.fit(y_test.reshape(-1, 1))\n",
    "y_test_onehot = enc.transform(y_test.reshape(-1, 1)).toarray()\n",
    "y_test_onehot.shape"
   ]
  },
  {
   "cell_type": "markdown",
   "metadata": {},
   "source": [
    "### One hot encoding on _y_test_"
   ]
  },
  {
   "cell_type": "code",
   "execution_count": 6,
   "metadata": {},
   "outputs": [
    {
     "data": {
      "text/plain": [
       "(10000, 10)"
      ]
     },
     "execution_count": 6,
     "metadata": {},
     "output_type": "execute_result"
    }
   ],
   "source": [
    "enc = OneHotEncoder()\n",
    "enc.fit(y_val.reshape(-1, 1))\n",
    "y_val_onehot = enc.transform(y_val.reshape(-1, 1)).toarray()\n",
    "y_val_onehot.shape"
   ]
  },
  {
   "cell_type": "markdown",
   "metadata": {},
   "source": [
    "#  Grid search for hyperparameters"
   ]
  },
  {
   "cell_type": "markdown",
   "metadata": {},
   "source": [
    "### Definition of the gris search parameters."
   ]
  },
  {
   "cell_type": "code",
   "execution_count": 6,
   "metadata": {},
   "outputs": [],
   "source": [
    "# define the grid search parameters\n",
    "batch_size = [128,256]\n",
    "learning_rate = [0.01,0.001]\n",
    "output_channels = [[512,128],[128,512],[256,256]]\n",
    "activation_fct = ['sigmoid','tanh','relu']"
   ]
  },
  {
   "cell_type": "markdown",
   "metadata": {},
   "source": [
    "### Grid search over these parameters with 3-fold cross-validation"
   ]
  },
  {
   "cell_type": "code",
   "execution_count": 8,
   "metadata": {},
   "outputs": [],
   "source": [
    "# %%time\n",
    "from keras.wrappers.scikit_learn import KerasClassifier\n",
    "from sklearn.model_selection import GridSearchCV\n",
    "\n",
    "\n",
    "def create_model(activation_fct='relu',learning_rate=0.001,output_channels = [512,128]):\n",
    "    # Start construction of the Keras Sequential model.\n",
    "    model = Sequential()\n",
    "\n",
    "    # Add an input layer \n",
    "    model.add(InputLayer(input_shape=((28, 28))))\n",
    "\n",
    "    # Convolutional layers expect images with shape (28, 28, 1)\n",
    "    model.add(Reshape((28, 28, 1)))\n",
    "\n",
    "    # First convolutional layer with ReLU-activation and max-pooling.\n",
    "    model.add(Conv2D(kernel_size=3, strides=2, filters=output_channels[0], padding='same',\n",
    "                     activation=activation_fct, name='layer_conv1'))\n",
    "    model.add(MaxPooling2D(pool_size=2, strides=2))\n",
    "\n",
    "    # Second convolutional layer with ReLU-activation and max-pooling.\n",
    "    model.add(Conv2D(kernel_size=3, strides=2, filters=output_channels[1], padding='same',\n",
    "                     activation=activation_fct, name='layer_conv2'))\n",
    "    model.add(MaxPooling2D(pool_size=2, strides=2))\n",
    "\n",
    "    # Flatten the 4-rank output of the convolutional layers to 2-rank that can be input to a fully-connected / dense layer.\n",
    "    model.add(Flatten())\n",
    "\n",
    "    # Last fully-connected / dense layer with softmax-activation for use in classification.\n",
    "    model.add(Dense(10, activation='softmax'))\n",
    "    \n",
    "    optimizer = sgd(lr=learning_rate)\n",
    "    model.compile(optimizer=optimizer, loss='categorical_crossentropy', metrics=['accuracy'])\n",
    "    return model\n",
    "\n",
    "# create model\n",
    "model = KerasClassifier(build_fn=create_model, epochs=1, verbose=1)\n",
    "# parameters dictionary\n",
    "param_grid = dict(batch_size=batch_size,\n",
    "                  activation_fct=activation_fct,\n",
    "                  learning_rate=learning_rate,\n",
    "                  output_channels=output_channels)\n",
    "# perform grid search\n",
    "grid = GridSearchCV(estimator=model, param_grid=param_grid)\n",
    "grid_result = grid.fit(x_train, y_train_onehot)\n"
   ]
  },
  {
   "cell_type": "markdown",
   "metadata": {},
   "source": [
    "### Search results"
   ]
  },
  {
   "cell_type": "code",
   "execution_count": 9,
   "metadata": {},
   "outputs": [
    {
     "name": "stdout",
     "output_type": "stream",
     "text": [
      "Best: 0.970417 using {'activation_fct': 'tanh', 'batch_size': 128, 'learning_rate': 0.01, 'output_channels': [512, 128]}\n",
      "0.936533 (0.002368) with: {'activation_fct': 'sigmoid', 'batch_size': 128, 'learning_rate': 0.01, 'output_channels': [512, 128]}\n",
      "0.905150 (0.005826) with: {'activation_fct': 'sigmoid', 'batch_size': 128, 'learning_rate': 0.01, 'output_channels': [128, 512]}\n",
      "0.923883 (0.001568) with: {'activation_fct': 'sigmoid', 'batch_size': 128, 'learning_rate': 0.01, 'output_channels': [256, 256]}\n",
      "0.786650 (0.002889) with: {'activation_fct': 'sigmoid', 'batch_size': 128, 'learning_rate': 0.001, 'output_channels': [512, 128]}\n",
      "0.701067 (0.025301) with: {'activation_fct': 'sigmoid', 'batch_size': 128, 'learning_rate': 0.001, 'output_channels': [128, 512]}\n",
      "0.727733 (0.014551) with: {'activation_fct': 'sigmoid', 'batch_size': 128, 'learning_rate': 0.001, 'output_channels': [256, 256]}\n",
      "0.907633 (0.005473) with: {'activation_fct': 'sigmoid', 'batch_size': 256, 'learning_rate': 0.01, 'output_channels': [512, 128]}\n",
      "0.836600 (0.011679) with: {'activation_fct': 'sigmoid', 'batch_size': 256, 'learning_rate': 0.01, 'output_channels': [128, 512]}\n",
      "0.877750 (0.009296) with: {'activation_fct': 'sigmoid', 'batch_size': 256, 'learning_rate': 0.01, 'output_channels': [256, 256]}\n",
      "0.712967 (0.003826) with: {'activation_fct': 'sigmoid', 'batch_size': 256, 'learning_rate': 0.001, 'output_channels': [512, 128]}\n",
      "0.567467 (0.077853) with: {'activation_fct': 'sigmoid', 'batch_size': 256, 'learning_rate': 0.001, 'output_channels': [128, 512]}\n",
      "0.644783 (0.022510) with: {'activation_fct': 'sigmoid', 'batch_size': 256, 'learning_rate': 0.001, 'output_channels': [256, 256]}\n",
      "0.970417 (0.001027) with: {'activation_fct': 'tanh', 'batch_size': 128, 'learning_rate': 0.01, 'output_channels': [512, 128]}\n",
      "0.968083 (0.000942) with: {'activation_fct': 'tanh', 'batch_size': 128, 'learning_rate': 0.01, 'output_channels': [128, 512]}\n",
      "0.969183 (0.001411) with: {'activation_fct': 'tanh', 'batch_size': 128, 'learning_rate': 0.01, 'output_channels': [256, 256]}\n",
      "0.926850 (0.002446) with: {'activation_fct': 'tanh', 'batch_size': 128, 'learning_rate': 0.001, 'output_channels': [512, 128]}\n",
      "0.906867 (0.004382) with: {'activation_fct': 'tanh', 'batch_size': 128, 'learning_rate': 0.001, 'output_channels': [128, 512]}\n",
      "0.915933 (0.002877) with: {'activation_fct': 'tanh', 'batch_size': 128, 'learning_rate': 0.001, 'output_channels': [256, 256]}\n",
      "0.961983 (0.001397) with: {'activation_fct': 'tanh', 'batch_size': 256, 'learning_rate': 0.01, 'output_channels': [512, 128]}\n",
      "0.956700 (0.001422) with: {'activation_fct': 'tanh', 'batch_size': 256, 'learning_rate': 0.01, 'output_channels': [128, 512]}\n",
      "0.959867 (0.002482) with: {'activation_fct': 'tanh', 'batch_size': 256, 'learning_rate': 0.01, 'output_channels': [256, 256]}\n",
      "0.900917 (0.004291) with: {'activation_fct': 'tanh', 'batch_size': 256, 'learning_rate': 0.001, 'output_channels': [512, 128]}\n",
      "0.873783 (0.007599) with: {'activation_fct': 'tanh', 'batch_size': 256, 'learning_rate': 0.001, 'output_channels': [128, 512]}\n",
      "0.882833 (0.002656) with: {'activation_fct': 'tanh', 'batch_size': 256, 'learning_rate': 0.001, 'output_channels': [256, 256]}\n",
      "0.101200 (0.002652) with: {'activation_fct': 'relu', 'batch_size': 128, 'learning_rate': 0.01, 'output_channels': [512, 128]}\n",
      "0.103250 (0.007800) with: {'activation_fct': 'relu', 'batch_size': 128, 'learning_rate': 0.01, 'output_channels': [128, 512]}\n",
      "0.102333 (0.001271) with: {'activation_fct': 'relu', 'batch_size': 128, 'learning_rate': 0.01, 'output_channels': [256, 256]}\n",
      "0.937083 (0.039942) with: {'activation_fct': 'relu', 'batch_size': 128, 'learning_rate': 0.001, 'output_channels': [512, 128]}\n",
      "0.905967 (0.045395) with: {'activation_fct': 'relu', 'batch_size': 128, 'learning_rate': 0.001, 'output_channels': [128, 512]}\n",
      "0.937733 (0.043405) with: {'activation_fct': 'relu', 'batch_size': 128, 'learning_rate': 0.001, 'output_channels': [256, 256]}\n",
      "0.111717 (0.003335) with: {'activation_fct': 'relu', 'batch_size': 256, 'learning_rate': 0.01, 'output_channels': [512, 128]}\n",
      "0.095117 (0.002604) with: {'activation_fct': 'relu', 'batch_size': 256, 'learning_rate': 0.01, 'output_channels': [128, 512]}\n",
      "0.100233 (0.002919) with: {'activation_fct': 'relu', 'batch_size': 256, 'learning_rate': 0.01, 'output_channels': [256, 256]}\n",
      "0.959467 (0.002062) with: {'activation_fct': 'relu', 'batch_size': 256, 'learning_rate': 0.001, 'output_channels': [512, 128]}\n",
      "0.767717 (0.195503) with: {'activation_fct': 'relu', 'batch_size': 256, 'learning_rate': 0.001, 'output_channels': [128, 512]}\n",
      "0.799183 (0.166228) with: {'activation_fct': 'relu', 'batch_size': 256, 'learning_rate': 0.001, 'output_channels': [256, 256]}\n"
     ]
    }
   ],
   "source": [
    "# summarize results\n",
    "print(\"Best: %f using %s\" % (grid_result.best_score_, grid_result.best_params_))\n",
    "means = grid_result.cv_results_['mean_test_score']\n",
    "stds = grid_result.cv_results_['std_test_score']\n",
    "params = grid_result.cv_results_['params']\n",
    "for mean, stdev, param in zip(means, stds, params):\n",
    "    print(\"%f (%f) with: %r\" % (mean, stdev, param))"
   ]
  },
  {
   "cell_type": "markdown",
   "metadata": {},
   "source": [
    "The best result in terms of accuracy, 0.970417 (0.001027), is obtained for the following parameters:\n",
    "    - activation_fct = tanh\n",
    "    - batch_size =  128\n",
    "    - learning_rate = 0.01\n",
    "    - output_channels = [512, 128]\n",
    "We use those to create the following best model:"
   ]
  },
  {
   "cell_type": "markdown",
   "metadata": {},
   "source": [
    "## Best Model\n"
   ]
  },
  {
   "cell_type": "markdown",
   "metadata": {},
   "source": [
    "### Sequential Model\n"
   ]
  },
  {
   "cell_type": "code",
   "execution_count": 7,
   "metadata": {
    "scrolled": true
   },
   "outputs": [],
   "source": [
    "# Start construction of the Keras Sequential model.\n",
    "model = Sequential()\n",
    "\n",
    "# Add an input layer \n",
    "model.add(InputLayer(input_shape=((28, 28))))\n",
    "\n",
    "# Convolutional layers expect images with shape (28, 28, 1)\n",
    "model.add(Reshape((28, 28, 1)))\n",
    "\n",
    "# First convolutional layer with ReLU-activation and max-pooling.\n",
    "model.add(Conv2D(kernel_size=3, strides=2, filters=512, padding='same',\n",
    "                 activation='tanh', name='layer_conv1'))\n",
    "model.add(MaxPooling2D(pool_size=2, strides=2))\n",
    "\n",
    "# Second convolutional layer with ReLU-activation and max-pooling.\n",
    "model.add(Conv2D(kernel_size=3, strides=2, filters=128, padding='same',\n",
    "                 activation='tanh', name='layer_conv2'))\n",
    "model.add(MaxPooling2D(pool_size=2, strides=2))\n",
    "\n",
    "# Flatten the 4-rank output of the convolutional layers to 2-rank that can be input to a fully-connected / dense layer.\n",
    "model.add(Flatten())\n",
    "\n",
    "# Last fully-connected / dense layer with softmax-activation for use in classification.\n",
    "model.add(Dense(10, activation='softmax'))"
   ]
  },
  {
   "cell_type": "markdown",
   "metadata": {},
   "source": [
    "### Model Summary\n"
   ]
  },
  {
   "cell_type": "code",
   "execution_count": 8,
   "metadata": {},
   "outputs": [
    {
     "name": "stdout",
     "output_type": "stream",
     "text": [
      "_________________________________________________________________\n",
      "Layer (type)                 Output Shape              Param #   \n",
      "=================================================================\n",
      "reshape (Reshape)            (None, 28, 28, 1)         0         \n",
      "_________________________________________________________________\n",
      "layer_conv1 (Conv2D)         (None, 14, 14, 512)       5120      \n",
      "_________________________________________________________________\n",
      "max_pooling2d (MaxPooling2D) (None, 7, 7, 512)         0         \n",
      "_________________________________________________________________\n",
      "layer_conv2 (Conv2D)         (None, 4, 4, 128)         589952    \n",
      "_________________________________________________________________\n",
      "max_pooling2d_1 (MaxPooling2 (None, 2, 2, 128)         0         \n",
      "_________________________________________________________________\n",
      "flatten (Flatten)            (None, 512)               0         \n",
      "_________________________________________________________________\n",
      "dense (Dense)                (None, 10)                5130      \n",
      "=================================================================\n",
      "Total params: 600,202\n",
      "Trainable params: 600,202\n",
      "Non-trainable params: 0\n",
      "_________________________________________________________________\n"
     ]
    }
   ],
   "source": [
    "model.summary()"
   ]
  },
  {
   "cell_type": "markdown",
   "metadata": {},
   "source": [
    "### Optimizer"
   ]
  },
  {
   "cell_type": "code",
   "execution_count": 9,
   "metadata": {},
   "outputs": [],
   "source": [
    "optimizer = sgd(lr=0.01)\n",
    "model.compile(optimizer=optimizer,\n",
    "              loss='categorical_crossentropy',\n",
    "              metrics=['accuracy'])"
   ]
  },
  {
   "cell_type": "markdown",
   "metadata": {},
   "source": [
    "# Training & Validation"
   ]
  },
  {
   "cell_type": "code",
   "execution_count": 12,
   "metadata": {},
   "outputs": [
    {
     "name": "stdout",
     "output_type": "stream",
     "text": [
      "Train on 50000 samples, validate on 10000 samples\n",
      "Epoch 1/10\n",
      " - 6s - loss: 0.2899 - acc: 0.9409 - val_loss: 0.2404 - val_acc: 0.9520\n",
      "Epoch 2/10\n",
      " - 6s - loss: 0.2086 - acc: 0.9561 - val_loss: 0.1879 - val_acc: 0.9604\n",
      "Epoch 3/10\n",
      " - 6s - loss: 0.1684 - acc: 0.9632 - val_loss: 0.1579 - val_acc: 0.9655\n",
      "Epoch 4/10\n",
      " - 6s - loss: 0.1430 - acc: 0.9689 - val_loss: 0.1400 - val_acc: 0.9695\n",
      "Epoch 5/10\n",
      " - 6s - loss: 0.1251 - acc: 0.9725 - val_loss: 0.1259 - val_acc: 0.9718\n",
      "Epoch 6/10\n",
      " - 6s - loss: 0.1124 - acc: 0.9753 - val_loss: 0.1149 - val_acc: 0.9736\n",
      "Epoch 7/10\n",
      " - 6s - loss: 0.1018 - acc: 0.9777 - val_loss: 0.1087 - val_acc: 0.9738\n",
      "Epoch 8/10\n",
      " - 6s - loss: 0.0938 - acc: 0.9797 - val_loss: 0.1013 - val_acc: 0.9752\n",
      "Epoch 9/10\n",
      " - 6s - loss: 0.0867 - acc: 0.9812 - val_loss: 0.0961 - val_acc: 0.9765\n",
      "Epoch 10/10\n",
      " - 6s - loss: 0.0810 - acc: 0.9823 - val_loss: 0.0929 - val_acc: 0.9770\n",
      "Wall time: 58.5 s\n"
     ]
    }
   ],
   "source": [
    "%%time\n",
    "history = model.fit(x=x_train, y=y_train_onehot, epochs=10, batch_size=128, validation_data=(x_val, y_val_onehot),verbose=2)"
   ]
  },
  {
   "cell_type": "code",
   "execution_count": 13,
   "metadata": {},
   "outputs": [],
   "source": [
    "%matplotlib inline\n",
    "import matplotlib.pyplot as plt"
   ]
  },
  {
   "cell_type": "markdown",
   "metadata": {},
   "source": [
    "#### Accuracy plot"
   ]
  },
  {
   "cell_type": "code",
   "execution_count": 16,
   "metadata": {},
   "outputs": [
    {
     "data": {
      "image/png": "[encoded data removed]",
      "text/plain": [
       "<Figure size 432x288 with 1 Axes>"
      ]
     },
     "metadata": {},
     "output_type": "display_data"
    }
   ],
   "source": [
    "# summarize history for accuracy\n",
    "plt.plot(history.history['acc'])\n",
    "plt.plot(history.history['val_acc'])\n",
    "plt.title('model accuracy')\n",
    "plt.ylabel('accuracy')\n",
    "plt.xlabel('epoch')\n",
    "plt.legend(['training','validation'])\n",
    "plt.show()"
   ]
  },
  {
   "cell_type": "markdown",
   "metadata": {},
   "source": [
    "#### Loss plot"
   ]
  },
  {
   "cell_type": "code",
   "execution_count": 17,
   "metadata": {},
   "outputs": [
    {
     "data": {
      "image/png": "[encoded data removed]",
      "text/plain": [
       "<Figure size 432x288 with 1 Axes>"
      ]
     },
     "metadata": {},
     "output_type": "display_data"
    }
   ],
   "source": [
    "# summarize history for loss\n",
    "plt.plot(history.history['loss'])\n",
    "plt.plot(history.history['val_loss'])\n",
    "plt.title('model loss')\n",
    "plt.ylabel('loss')\n",
    "plt.legend(['training','validation'])\n",
    "plt.xlabel('epoch')\n",
    "plt.show()"
   ]
  },
  {
   "cell_type": "markdown",
   "metadata": {},
   "source": [
    "# Evaluation\n"
   ]
  },
  {
   "cell_type": "markdown",
   "metadata": {},
   "source": [
    "Now the sequential model is evaluated using the test set. The accuracy and the loss are shown below."
   ]
  },
  {
   "cell_type": "code",
   "execution_count": 20,
   "metadata": {},
   "outputs": [
    {
     "name": "stdout",
     "output_type": "stream",
     "text": [
      "10000/10000 [==============================] - 1s 95us/step\n"
     ]
    }
   ],
   "source": [
    "result = model.evaluate(x_test, y_test_onehot)"
   ]
  },
  {
   "cell_type": "markdown",
   "metadata": {},
   "source": [
    "Performance metrics for the test-set."
   ]
  },
  {
   "cell_type": "code",
   "execution_count": 21,
   "metadata": {},
   "outputs": [
    {
     "name": "stdout",
     "output_type": "stream",
     "text": [
      "loss 0.09201463797166944\n",
      "acc 0.9766\n"
     ]
    }
   ],
   "source": [
    "for name, value in zip(model.metrics_names, result):\n",
    "    print(name, value)"
   ]
  },
  {
   "cell_type": "markdown",
   "metadata": {},
   "source": [
    "# 2) Comparison with the MLP Model derived in Question 1"
   ]
  },
  {
   "cell_type": "code",
   "execution_count": null,
   "metadata": {},
   "outputs": [],
   "source": []
  }
 ],
 "metadata": {
  "kernelspec": {
   "display_name": "Python 3",
   "language": "python",
   "name": "python3"
  },
  "language_info": {
   "codemirror_mode": {
    "name": "ipython",
    "version": 3
   },
   "file_extension": ".py",
   "mimetype": "text/x-python",
   "name": "python",
   "nbconvert_exporter": "python",
   "pygments_lexer": "ipython3",
   "version": "3.6.8"
  }
 },
 "nbformat": 4,
 "nbformat_minor": 2
}
