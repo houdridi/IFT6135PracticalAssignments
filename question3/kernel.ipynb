{
 "cells": [
  {
   "cell_type": "markdown",
   "metadata": {
    "_uuid": "4a49f67ead72c6d46948ba90e01718f785e062dd"
   },
   "source": [
    "# Dogs vs. cats classification\n",
    "IFT6135 - Winter 2019\n",
    "\n",
    "Assigment 1 - Problem 3\n",
    "\n",
    "Authors: <br>\n",
    "Stephan Tran <br>\n",
    "Oussema Keskes <br>\n",
    "Stefan Wapnick <br>\n",
    "Mohamed Amine <br>\n",
    "\n",
    "Kaggle Team name: Doge\n",
    "\n",
    "Inspired by the IFT6135-H19 PyTorch Tutorial"
   ]
  },
  {
   "cell_type": "markdown",
   "metadata": {
    "_uuid": "676084026fefe4774e07119bc419c8048893b64b"
   },
   "source": [
    "## Importing libraries"
   ]
  },
  {
   "cell_type": "code",
   "execution_count": 24,
   "metadata": {
    "_uuid": "b667ec81a4740ca08407d8f3dd41ea6c554a53ff"
   },
   "outputs": [],
   "source": [
    "import numpy as np\n",
    "import torch\n",
    "import torch.nn as nn\n",
    "import torch.nn.functional as F\n",
    "from torchvision import transforms, datasets\n",
    "from torch.utils.data.sampler import SubsetRandomSampler\n",
    "import matplotlib.pyplot as plt\n",
    "import csv\n",
    "import os\n",
    "import pandas as pd\n",
    "from IPython.display import display, Markdown"
   ]
  },
  {
   "cell_type": "markdown",
   "metadata": {
    "_uuid": "732fa64828a9f25f11619eaf4b0f24be8ce441dd"
   },
   "source": [
    "## Defining paremeters and variables"
   ]
  },
  {
   "cell_type": "code",
   "execution_count": null,
   "metadata": {
    "_uuid": "42637d809acba97211b4ce4fa947b8a05f13e504"
   },
   "outputs": [],
   "source": [
    "RUN_LOCAL = True\n",
    "VALID_RATIO = 0.10\n",
    "TRAIN_RATIO = 1.0 - VALID_RATIO\n",
    "LEARNING_RATE = 0.00001\n",
    "KERNEL_SIZE = 3\n",
    "PAD = 1\n",
    "BATCH_SIZE = 128\n",
    "MAX_EPOCH = 186\n",
    "\n",
    "SAVE_MODEL = False  # Save model after each epoch\n",
    "LOAD_MODEL = False # Skip training phase\n",
    "SAVE_PATH = 'BestModel.pwf'\n",
    "\n",
    "if RUN_LOCAL:\n",
    "    TRAIN_IMG_DIR ='trainset/trainset'\n",
    "    TEST_IMG_DIR = 'testset/'\n",
    "else:\n",
    "    # Kaggle directory\n",
    "    TRAIN_IMG_DIR ='../input/trainset/trainset'\n",
    "    TEST_IMG_DIR = '../input/testset'\n",
    "\n",
    "cuda_available = torch.cuda.is_available()\n",
    "# print(cuda_available)"
   ]
  },
  {
   "cell_type": "markdown",
   "metadata": {
    "_uuid": "8eaa725d81c23898183efaed3ecc242c7ec80e60"
   },
   "source": [
    "## Importing datasets and preprocessing\n",
    "1. Load training and testing images\n",
    "2. Data augmentation: <br>\n",
    "    In order to learn features from various images of position of dog and cats, we have augmented the dataset examples with<br>\n",
    "    a) __Horizontal flipping__: the input image is randomly mirrored so the model could learn features of a dog or cat even if it is flipped. \n",
    "    The dog shown in the left side below and the right side below should both be recognised as a dog by the model. <br>\n",
    "    \n",
    "    ![](figures/dog.jpg)\n",
    "    ![](figures/dog_flip.jpg)\n",
    "    \n",
    "    b) __Rotation__: Similarily to the horizontal flipping process, we have added random rotation (up 10 degrees roration) to the training set to learn features of a dog or\n",
    "    cat no matter how it is oriented. This is meant to make the model able to recognize a dog or cat even if it is slighty rotated. <br>\n",
    "    \n",
    "    ![](figures/dog.jpg)\n",
    "    ![](figures/dog_rot.png)\n",
    "    \n",
    "    c) __Random resize and scale__: the training images have been cropped and then rescale back to the original size. The purpose of the operation is to build some invariance\n",
    "    to scaling of dogs and cats features in our model. <br>\n",
    "    \n",
    "    ![](figures/dog.jpg)\n",
    "    ![](figures/dog_resize.png)\n",
    "    \n",
    "3. Transform images into tensor so they could be processed\n",
    "4. __Split dataset into training and validation set__:\n",
    "    To determine the appropriate the hyperparameters (number of convoution layers, kernel size, learning rate, choice of activation function, etc.) for the current task, we\n",
    "    have split the initial training set into a final training set and a validation set with a ratio of 90 % and 10 % respectively. This way, we should be able to have enough\n",
    "    training examples to learn the features and enough validation set examples so the result of the validation can be considered a good representation of unknown inputs (test\n",
    "    set). In this case, we have: <br>\n",
    "    - Training set total examples\t\t: 19,998 items <br>\n",
    "    - Training set after split (90%)\t: 17,999 items <br>\n",
    "    - Validation set after split (10%)\t:  1,999 items <br>"
   ]
  },
  {
   "cell_type": "code",
   "execution_count": 11,
   "metadata": {
    "_uuid": "273162a06af07ae421cf68685bb645111e20ba60"
   },
   "outputs": [],
   "source": [
    "# Class to return image folder with paths inspired from andrewjong\n",
    "class ImageFolderWithPaths(datasets.ImageFolder):\n",
    "    def __getitem__(self, index):\n",
    "        original_tuple = super(ImageFolderWithPaths, self).__getitem__(index)\n",
    "        path = self.imgs[index][0]\n",
    "        tuple_with_path = (original_tuple + (path,))\n",
    "        return tuple_with_path\n",
    "\n",
    "# Apply a combination of transforms on all images\n",
    "image_transform = transforms.Compose([\n",
    "    transforms.RandomRotation(10),\n",
    "    transforms.RandomHorizontalFlip(),\n",
    "    transforms.RandomResizedCrop(64, scale=(0.9, 1.0)),\n",
    "    transforms.ToTensor(),\n",
    "    transforms.Normalize((0.48,0.45,0.40), (0.20,0.20,0.20))\n",
    "])\n",
    "\n",
    "# No transforms on the image\n",
    "image_transform_test = transforms.Compose([  \n",
    "    transforms.ToTensor(),\n",
    "    transforms.Normalize((0.48,0.45,0.40), (0.20,0.20,0.20))\n",
    "])\n",
    "\n",
    "train_dataset = datasets.ImageFolder(root=TRAIN_IMG_DIR, transform=image_transform)\n",
    "valid_dataset = datasets.ImageFolder(root=TRAIN_IMG_DIR, transform=image_transform_test)\n",
    "\n",
    "# Dataset splitting (train-validation)\n",
    "dataset_size = len(train_dataset)\n",
    "indices = list(range(dataset_size))\n",
    "split = int(np.floor(VALID_RATIO * dataset_size))\n",
    "\n",
    "np.random.seed(42)\n",
    "np.random.shuffle(indices)\n",
    "\n",
    "train_idx, valid_idx = indices[split:], indices[:split]\n",
    "train_sampler = SubsetRandomSampler(train_idx)\n",
    "valid_sampler = SubsetRandomSampler(valid_idx)\n",
    "\n",
    "\n",
    "# Load dataset\n",
    "trainset_loader = torch.utils.data.DataLoader(train_dataset, batch_size = BATCH_SIZE,\n",
    "                                             num_workers=4, sampler=train_sampler)\n",
    "\n",
    "validset_loader = torch.utils.data.DataLoader(valid_dataset, batch_size = 1,\n",
    "                                             num_workers=4, sampler=valid_sampler)\n",
    "\n",
    "\n",
    "test_dataset = ImageFolderWithPaths(root=TEST_IMG_DIR, transform=image_transform_test)\n",
    "test_loader = torch.utils.data.DataLoader(test_dataset, batch_size=1, shuffle=False,\n",
    "                                              num_workers=4)\n"
   ]
  },
  {
   "cell_type": "markdown",
   "metadata": {
    "_uuid": "6073f968355b3c5c93b78c85244c2354724d3cbb"
   },
   "source": [
    "# Showing some samples of the training set"
   ]
  },
  {
   "cell_type": "code",
   "execution_count": 12,
   "metadata": {
    "_uuid": "642a34e76a982b0be5d96e7e4e76517e5b6f8ece"
   },
   "outputs": [],
   "source": [
    "def imshow(img):\n",
    "    x, y = img\n",
    "    x = x.numpy().transpose((1, 2, 0))\n",
    "    print(x.shape)\n",
    "    plt.imshow(x)\n",
    "    if y == 0:\n",
    "        print('Meow!')\n",
    "    else:\n",
    "        print('Barf!')\n",
    "\n",
    "# plt.figure()  \n",
    "# plt.subplot(1,2,1)\n",
    "# imshow(train_dataset[800])\n",
    "# plt.subplot(1,2,2)\n",
    "# imshow(valid_dataset[100])\n",
    "\n",
    "def get_mean_std(dataset):\n",
    "    r_mean_list = []\n",
    "    g_mean_list = []\n",
    "    b_mean_list = []\n",
    "    r_std_list = []\n",
    "    g_std_list = []\n",
    "    b_std_list = []\n",
    "    \n",
    "    for i in range(100):\n",
    "        x = dataset[10*i][0]\n",
    "        x = np.asarray(x)\n",
    "        r_mean, g_mean, b_mean = np.mean(x[0]), np.mean(x[1]), np.mean(x[2])\n",
    "        r_std,g_std,b_std = np.std(x[0]), np.std(x[1]), np.std(x[2])\n",
    "        \n",
    "        r_mean_list.append(r_mean)\n",
    "        g_mean_list.append(g_mean)\n",
    "        b_mean_list.append(b_mean)\n",
    "        r_std_list.append(r_std)\n",
    "        g_std_list.append(g_std)\n",
    "        b_std_list.append(b_std)\n",
    "        \n",
    "    print(dataset[100][0])\n",
    "    \n",
    "    mean = [np.mean(r_mean_list), np.mean(g_mean_list), np.mean(b_mean_list)]\n",
    "    std = [np.mean(r_std_list), np.mean(g_std_list), np.mean(b_std_list)]        \n",
    "    \n",
    "    return mean, std\n",
    "        \n",
    "# print(get_mean_std(train_dataset))"
   ]
  },
  {
   "cell_type": "markdown",
   "metadata": {
    "_uuid": "04912f7dc2234f36c212ae5117c16a7a4e8942bc"
   },
   "source": [
    "## Defining CNN architecture\n",
    "We use a CNN which is inspired from VGGNet model with 4 convolution layers, a ReLU activation function after each convolution stage followed by max pooling layers from beginning to end and 3 fully connected linear layers as shown in the output below. Here are additional description of the model:\n",
    "- The size of the convolutional filters is (3x3) with padding p= 1\n",
    "- Max pooling windows is (2, 2) with stride s=2. \n",
    "- The output activation function is a sigmoid so we can have an output ranging from [0,1]\n",
    "- The total number of parameters is 4846401. \n",
    "- Optimizer: Stochastic Gradient Descent with a learning rate of 0.00001\n",
    "- Loss Function: Binary Cross Entropy\n",
    "- The batch size is 128\n",
    "- The number of epochs is 186\n"
   ]
  },
  {
   "cell_type": "code",
   "execution_count": 18,
   "metadata": {
    "_uuid": "87b5fe7a3abfd10c8b5206481d420f929cb2985e"
   },
   "outputs": [
    {
     "name": "stdout",
     "output_type": "stream",
     "text": [
      "Number of parameters in the model: 4846401\n",
      "Classifier(\n",
      "  (conv): Sequential(\n",
      "    (0): Conv2d(3, 32, kernel_size=(3, 3), stride=(1, 1), padding=(1, 1))\n",
      "    (1): ReLU()\n",
      "    (2): MaxPool2d(kernel_size=(2, 2), stride=2, padding=0, dilation=1, ceil_mode=False)\n",
      "    (3): Conv2d(32, 64, kernel_size=(3, 3), stride=(1, 1), padding=(1, 1))\n",
      "    (4): ReLU()\n",
      "    (5): MaxPool2d(kernel_size=(2, 2), stride=2, padding=0, dilation=1, ceil_mode=False)\n",
      "    (6): Conv2d(64, 128, kernel_size=(3, 3), stride=(1, 1), padding=(1, 1))\n",
      "    (7): ReLU()\n",
      "    (8): MaxPool2d(kernel_size=(2, 2), stride=2, padding=0, dilation=1, ceil_mode=False)\n",
      "    (9): Conv2d(128, 256, kernel_size=(3, 3), stride=(1, 1), padding=(1, 1))\n",
      "    (10): ReLU()\n",
      "    (11): MaxPool2d(kernel_size=(2, 2), stride=2, padding=0, dilation=1, ceil_mode=False)\n",
      "  )\n",
      "  (fc1): Linear(in_features=4096, out_features=1024, bias=True)\n",
      "  (fc2): Linear(in_features=1024, out_features=256, bias=True)\n",
      "  (fc3): Linear(in_features=256, out_features=1, bias=True)\n",
      ")\n"
     ]
    }
   ],
   "source": [
    "class Classifier(nn.Module):\n",
    "    def __init__(self):\n",
    "        super().__init__()\n",
    "        self.conv = nn.Sequential(\n",
    "            # Layer 1: Convolution - ReLU - Max pooling\n",
    "            nn.Conv2d(in_channels=3, out_channels=32, kernel_size=(KERNEL_SIZE, KERNEL_SIZE), padding=PAD),\n",
    "            nn.ReLU(),\n",
    "            nn.MaxPool2d(kernel_size=(2, 2), stride=2),\n",
    "            \n",
    "            # Layer 2: Convolution - ReLU - Max pooling\n",
    "            nn.Conv2d(in_channels=32, out_channels=64, kernel_size=(KERNEL_SIZE, KERNEL_SIZE), padding=PAD),\n",
    "            nn.ReLU(),\n",
    "            nn.MaxPool2d(kernel_size=(2, 2), stride=2),\n",
    "            \n",
    "            # Layer 3: Convolution - ReLU - Max pooling\n",
    "            nn.Conv2d(in_channels=64, out_channels=128, kernel_size=(KERNEL_SIZE, KERNEL_SIZE), padding=PAD),\n",
    "            nn.ReLU(),\n",
    "            nn.MaxPool2d(kernel_size=(2, 2), stride=2),\n",
    "            \n",
    "            # Layer 4: Convolution - ReLU - Max pooling\n",
    "            nn.Conv2d(in_channels=128, out_channels=256, kernel_size=(KERNEL_SIZE, KERNEL_SIZE), padding=PAD),\n",
    "            nn.ReLU(),\n",
    "            nn.MaxPool2d(kernel_size=(2, 2), stride=2)\n",
    "                     \n",
    "        )        \n",
    "        # Layer 5-6-7: Fully connected linear layers\n",
    "        self.fc1 = nn.Linear(256*4*4, 1024)\n",
    "        self.fc2 = nn.Linear(1024, 256)\n",
    "        self.fc3 = nn.Linear(256, 1)\n",
    "\n",
    "        \n",
    "    def forward(self, x):\n",
    "        temp = self.conv(x)\n",
    "        temp = temp.view(-1,256*4*4)\n",
    "        temp = self.fc1(temp)\n",
    "        temp = self.fc2(temp)\n",
    "        temp = self.fc3(temp)\n",
    "        temp = torch.sigmoid(temp)\n",
    "        return temp\n",
    "    \n",
    "cnn = Classifier()\n",
    "if cuda_available:\n",
    "    cnn = cnn.cuda()\n",
    "\n",
    "optimizer = torch.optim.SGD(cnn.parameters(), lr=LEARNING_RATE)\n",
    "criterion = nn.BCELoss()\n",
    "\n",
    "pytorch_total_params = sum(p.numel() for p in cnn.parameters())\n",
    "print('Number of parameters in the model: %d' % pytorch_total_params)\n",
    "print(cnn)"
   ]
  },
  {
   "cell_type": "markdown",
   "metadata": {
    "_uuid": "553465f60fc0d15dd6734331b472e31cc4050072"
   },
   "source": [
    "# Classifier training and validation"
   ]
  },
  {
   "cell_type": "code",
   "execution_count": null,
   "metadata": {
    "_uuid": "6fcf32b8532515fb4aa05eb467f6185eec19d2c7"
   },
   "outputs": [],
   "source": [
    "best_epoch = 0\n",
    "best_acc = 0\n",
    "log_train_loss = []\n",
    "log_train_acc = []\n",
    "log_valid_loss = []\n",
    "log_valid_acc = []\n",
    "\n",
    "if LOAD_MODEL == False:\n",
    "    for epoch in range(MAX_EPOCH):\n",
    "\n",
    "        train_losses = []\n",
    "        valid_losses = []\n",
    "\n",
    "        total = 0\n",
    "        correct = 0\n",
    "\n",
    "        ##### TRAINING PHASE ####\n",
    "        # Set the model in training mode  \n",
    "        for batch_idx, (inputs, labels) in enumerate(trainset_loader):\n",
    "\n",
    "            # Data conversion to float and cuda\n",
    "            labels_flt = torch.tensor(labels, dtype=torch.float)\n",
    "            if cuda_available:\n",
    "                inputs, labels_flt, labels = inputs.cuda(), labels_flt.cuda(), labels.cuda()\n",
    "\n",
    "            # Compute forward phase\n",
    "            outputs = cnn(inputs).squeeze()\n",
    "\n",
    "            # Compute training loss (Binary Cross Entropy)\n",
    "            loss = criterion(outputs, labels_flt)\n",
    "            train_losses.append(loss.data.item())\n",
    "            \n",
    "            # Prediction: since the output is between 0 and 1 du to sigmoid activation function, the\n",
    "            # prediction value will be 0 when the output is [0,0.5] and 1 when it is ]0.5,1]\n",
    "            predicted = outputs > 0.5\n",
    "            if cuda_available:\n",
    "                predicted = torch.tensor(predicted, dtype=torch.long).cuda()\n",
    "            else:\n",
    "                predicted = torch.tensor(predicted, dtype=torch.long)\n",
    "\n",
    "            # Compute training accuracy\n",
    "            total += labels.size(0)\n",
    "            correct += (predicted == labels).sum().item()\n",
    "            train_acc = 100*correct/total\n",
    "\n",
    "            # Backward propagation\n",
    "            loss.backward()\n",
    "            optimizer.step()\n",
    "\n",
    "        # Log the training loss and accuracy with respect to the epoch number\n",
    "        log_train_loss.append([epoch,np.mean(train_losses)])\n",
    "        log_train_acc.append([epoch,train_acc])\n",
    "\n",
    "        # Save model into a file for later use\n",
    "        if SAVE_MODEL:\n",
    "            if epoch%5 == 0:\n",
    "                torch.save(cnn.state_dict(), \"CNN{0:03d}.pwf\".format(epoch)) \n",
    "\n",
    "\n",
    "        ##### VALIDATION PHASE ####\n",
    "        total = 0\n",
    "        correct = 0    \n",
    "\n",
    "        # Set the model in evaluation mode\n",
    "        with torch.no_grad():    \n",
    "            for batch_idx, (inputs, labels) in enumerate(validset_loader):\n",
    "                # Data conversion to float and cuda\n",
    "                labels_flt = torch.tensor(labels, dtype=torch.float)\n",
    "                if cuda_available:\n",
    "                    inputs, labels_flt, labels = inputs.cuda(), labels_flt.cuda(), labels.cuda()\n",
    "\n",
    "                # Compute forward phase\n",
    "                outputs = cnn(inputs).squeeze()   \n",
    "\n",
    "                # Compute validation loss (Binary Cross Entropy)\n",
    "                loss = criterion(outputs, labels_flt)\n",
    "                valid_losses.append(loss.data.item())        \n",
    "\n",
    "                # Prediction\n",
    "                predicted = outputs > 0.5\n",
    "                predicted = torch.tensor(predicted, dtype=torch.long).cuda()\n",
    "\n",
    "                # Compute training accuracy\n",
    "                total += labels.size(0)\n",
    "                correct += (predicted == labels).sum().item()\n",
    "                valid_acc = 100*correct/total\n",
    "\n",
    "        # Log the training loss and accuracy with respect to the epoch number\n",
    "        log_valid_loss.append([epoch,np.mean(valid_losses)])\n",
    "        log_valid_acc.append([epoch,valid_acc])\n",
    "\n",
    "        if valid_acc > best_acc:\n",
    "            best_epoch = epoch\n",
    "            best_acc = valid_acc      \n",
    "        \n",
    "    log_train_loss = np.swapaxes(np.asarray(log_train_loss),0,1)\n",
    "    log_train_acc = np.swapaxes(np.asarray(log_train_acc),0,1)\n",
    "    log_valid_loss = np.swapaxes(np.asarray(log_valid_loss),0,1)\n",
    "    log_valid_acc = np.swapaxes(np.asarray(log_valid_acc),0,1)\n",
    "\n",
    "    print(Test Acc : %.3f Best epoch: %d Best acc: %.3f' % (epoch, valid_acc , best_epoch, best_acc))\n",
    "    print('------------------------------------------------------------------------------------')\n",
    "else:\n",
    "    cnn.load_state_dict(torch.load(SAVE_PATH))\n",
    "    cnn.eval()"
   ]
  },
  {
   "cell_type": "markdown",
   "metadata": {},
   "source": [
    "## Plot training and validation loss/accuracy\n",
    "\n",
    "** Refer to curves below **\n",
    "\n",
    "The first trend we can observe is the more training epochs we execute the more the accurate the training and validation are until a certain point. However, as we could see from the validation loss curve, the model starts to overfit on the training set after about 225 epochs. This is because the neural network is now modeled after the training set which degrades generalization perfgormance of the network.\n",
    "\n",
    "Also, we can see a spike in the training loss and validation loss at about epoch 180. This may be due to an explosion of the gradient somehow. The model then converges back to a suboptimal point in epoch ~ 210.\n",
    "\n",
    "In order to improve our validation performance and hopefully the test accuracy, we could have added some regularization techniques in the process so our model could be better at generalization. For example, we could have implementend\n",
    "- Dropout: randomly removing some nonoutput units during training phase. This way, the learned  features could be spread across more neurons instead of being “concentred” in certain neurons in the network.\n",
    "- L1 or L2 regularization: adding a regularizer term in the objective function to “penalize” the weight.\n",
    "\n",
    "We obtained the best accuracy in validation of about 84.75% with the hyperparameters described in 3.1.  Then, we submitted our model to the test set which results in a score of 85.74%. From these numbers, we can suggest that the validation process was good enough so we could have a similar performance with the test set. Our model was able to generalize to the test examples and didn’t overfit either to the training set or the validation set."
   ]
  },
  {
   "cell_type": "code",
   "execution_count": 22,
   "metadata": {},
   "outputs": [
    {
     "data": {
      "image/png": "[encoded data removed]",
      "text/plain": [
       "<Figure size 432x288 with 1 Axes>"
      ]
     },
     "metadata": {
      "needs_background": "light"
     },
     "output_type": "display_data"
    },
    {
     "data": {
      "image/png": "[encoded data removed]",
      "text/plain": [
       "<Figure size 432x288 with 1 Axes>"
      ]
     },
     "metadata": {
      "needs_background": "light"
     },
     "output_type": "display_data"
    },
    {
     "data": {
      "image/png": "[encoded data removed]",
      "text/plain": [
       "<Figure size 432x288 with 1 Axes>"
      ]
     },
     "metadata": {
      "needs_background": "light"
     },
     "output_type": "display_data"
    },
    {
     "data": {
      "image/png": "[encoded data removed]",
      "text/plain": [
       "<Figure size 432x288 with 1 Axes>"
      ]
     },
     "metadata": {
      "needs_background": "light"
     },
     "output_type": "display_data"
    }
   ],
   "source": [
    "if LOAD_MODEL == False:\n",
    "    plt.figure(1)\n",
    "    plt.plot(log_train_loss[0], log_train_loss[1])\n",
    "    plt.xlabel('Epochs')\n",
    "    plt.ylabel('Loss')\n",
    "    plt.title('Training loss')\n",
    "    plt.savefig('train_loss.png')\n",
    "    \n",
    "    plt.figure(2)\n",
    "    plt.plot(log_train_acc[0], log_train_acc[1])\n",
    "    plt.xlabel('Epochs')\n",
    "    plt.ylabel('%')\n",
    "    plt.title('Training accuracy')\n",
    "    plt.savefig('train_acc.png')\n",
    "\n",
    "    plt.figure(3)\n",
    "    plt.plot(log_valid_loss[0], log_valid_loss[1])\n",
    "    plt.xlabel('Epochs')\n",
    "    plt.ylabel('Loss')\n",
    "    plt.title('Validation loss')\n",
    "    plt.savefig('valid_loss.png')\n",
    "\n",
    "    plt.figure(4)\n",
    "    plt.plot(log_valid_acc[0], log_valid_acc[1])\n",
    "    plt.xlabel('Epochs')\n",
    "    plt.ylabel('%')\n",
    "    plt.title('Validation accuracy')\n",
    "    plt.savefig('valid_acc.png')\n",
    "    \n",
    "    plt.show()\n"
   ]
  },
  {
   "cell_type": "markdown",
   "metadata": {},
   "source": [
    "## Hyperparameters search\n",
    "We added another linear layer and keep the other hyperparameters as is, we get:<br>\n",
    "\n",
    "![](figures/cnn_2.png)\n",
    "![](figures/train_valid_cnn_2.jpg)    \n",
    "    \n",
    "We also tried to increase the value of learning rate (Learning rate = 0.001) by keeping the other hyperparameters. <br>\n",
    "\n",
    "![](figures/train_valid_cnn_3.jpg)"
   ]
  },
  {
   "cell_type": "markdown",
   "metadata": {
    "_uuid": "2a0fae2e740fcdf914db385727b3d3e53c5a489e"
   },
   "source": [
    "## Predicting test dataset"
   ]
  },
  {
   "cell_type": "code",
   "execution_count": null,
   "metadata": {
    "_uuid": "a4205efe315c2e2b7bb4834d0ee0539fc66c81a8"
   },
   "outputs": [],
   "source": [
    "header = ['id', 'label']\n",
    "prediction = []\n",
    "\n",
    "with torch.no_grad(): \n",
    "    for batch_idx, (inputs, labels, paths) in enumerate(test_loader):\n",
    "        if cuda_available:\n",
    "            inputs, labels = inputs.cuda(), labels.cuda()   \n",
    "        outputs = cnn(inputs)\n",
    "        _, predicted = torch.max(outputs.data, 1)\n",
    "        predicted = outputs > 0.5\n",
    "        predicted = torch.tensor(predicted, dtype=torch.long).cuda()    \n",
    "\n",
    "        filename = os.path.basename(paths[0])\n",
    "        filename = os.path.splitext(filename)[0]\n",
    "\n",
    "        if predicted == 0:\n",
    "            data_out = [filename, 'Cat']\n",
    "        else:\n",
    "            data_out = [filename, 'Dog']\n",
    "        prediction.append(data_out)\n",
    "\n",
    "image_name = np.asarray(prediction)[:,0]\n",
    "label = np.asarray(prediction)[:,1]\n",
    "submission = pd.DataFrame({ 'id': image_name, 'label': label })\n",
    "submission.to_csv(\"my_submission.csv\", index=False)\n",
    "    "
   ]
  },
  {
   "cell_type": "markdown",
   "metadata": {},
   "source": [
    "## Visualize misclassification and uncertain classification\n",
    "\n",
    "Some of the misclassification examples that the network got are shown below\n",
    "\n",
    "![](figures/misclass.jpg)\n",
    "    \n",
    "We notice from these samples that dogs with pointy ears are more prone to be classified as cats. Thus, it is highly probable that our model learned features on the ear of the animal and every photo where an animal has pointy ears, it is considered to be a cat. What we also observe is image where the object is not really distinguishable is quite hard for the network to classify as shown on image e).\n",
    "\n",
    "Furthermore, for a couple of test images, the model ouputs a probability of about 50 % on both classes (we’ve displayed the input images when the output of the neural network is 0.45 < y < 0.55).\n",
    "![](figures/hardclass.jpg)\n",
    "\n",
    "What we notice here is dark object of interested in the image make it harder to the network to be able to classify with high probability the class of the input as shown in the last row of the images above. There is a difficulty to detect facial features on the animal (hard to locate the nose, the eyes, etc.). Also, form the first image, we could clearly see why the convolutional neural network had a gard time predicting the class since the face of the cat is not visible. Another case where there is some difficulties for the model is the presence of multiple object as seen on image #2 on the first row. It is much easier to \n",
    "\n",
    "To improve the whole model, we could perform additional pre-processing on the image in order to enhance details, edges and features in the image. This way, the network may be able to learn and detect features that were indistinguishable before. This could be done with a high-pass filter. As for dark object, we could add histogram equalization on the image to spread the contrast of the image and thus make it more clearer and brighter. Also, image segmentation could be perform first so we can extract the object of interest and suppress any background information.\n"
   ]
  },
  {
   "cell_type": "code",
   "execution_count": 26,
   "metadata": {},
   "outputs": [],
   "source": [
    "# total = 0\n",
    "# correct = 0\n",
    "# with torch.no_grad():    \n",
    "#     for batch_idx, (inputs, labels) in enumerate(validset_loader):\n",
    "#         # Data conversion to float and cuda\n",
    "#         labels_flt = torch.tensor(labels, dtype=torch.float)\n",
    "#         if cuda_available:\n",
    "#             inputs, labels_flt, labels = inputs.cuda(), labels_flt.cuda(), labels.cuda()\n",
    "\n",
    "#         # Compute forward phase\n",
    "#         outputs = cnn(inputs).squeeze()   \n",
    "\n",
    "#         # Prediction\n",
    "#         predicted = outputs > 0.5\n",
    "#         predicted = torch.tensor(predicted, dtype=torch.long).cuda()\n",
    "\n",
    "#         # Compute training accuracy\n",
    "#         total += labels.size(0)\n",
    "#         correct += (predicted == labels).sum().item()\n",
    "#         valid_acc = 100*correct/total\n",
    "        \n",
    "#         img_list = inputs.cpu().numpy()\n",
    "#         img_list = np.squeeze(img_list)\n",
    "        \n",
    "#         print(batch_idx)\n",
    "        \n",
    "#         # Show misclassification\n",
    "#         if predicted != labels:\n",
    "#             img = img_list\n",
    "#             img = np.transpose(img,(1, 2, 0))\n",
    "#             plt.figure(1)\n",
    "#             plt.imshow(img)\n",
    "#             plt.show()            \n",
    "#             input('Misclassification: Prob. of %.3f' %  outputs)\n",
    "                    \n",
    "        \n",
    "#         # Hard decision\n",
    "# #         outputs_np = np.asarray(outputs.cpu())\n",
    "# #         hard_idx = np.where(abs(outputs_np - 0.50) < 0.05)\n",
    "# #         hard_idx = hard_idx[0][0]\n",
    "        \n",
    "#         if (outputs < 0.55) and (outputs > 0.45):\n",
    "#             img = img_list\n",
    "#             img = np.transpose(img,(1, 2, 0))\n",
    "#             plt.figure(2)\n",
    "#             plt.imshow(img)\n",
    "#             plt.show()\n",
    "#             input('Hard decision: Prob. of %.3f and is %d' %  (outputs,labels))"
   ]
  }
 ],
 "metadata": {
  "kernelspec": {
   "display_name": "Python 3",
   "language": "python",
   "name": "python3"
  },
  "language_info": {
   "codemirror_mode": {
    "name": "ipython",
    "version": 3
   },
   "file_extension": ".py",
   "mimetype": "text/x-python",
   "name": "python",
   "nbconvert_exporter": "python",
   "pygments_lexer": "ipython3",
   "version": "3.6.8"
  }
 },
 "nbformat": 4,
 "nbformat_minor": 2
}
