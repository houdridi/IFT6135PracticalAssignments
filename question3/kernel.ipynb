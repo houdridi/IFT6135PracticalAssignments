{
 "cells": [
  {
   "cell_type": "markdown",
   "metadata": {
    "_uuid": "4a49f67ead72c6d46948ba90e01718f785e062dd"
   },
   "source": [
    "# Dogs vs. cats classification\n",
    "IFT6135 - Winter 2019\n",
    "\n",
    "Assigment 1 - Problem 3\n",
    "\n",
    "Authors: <br>\n",
    "Stephan Tran <br>\n",
    "Oussema Keskes <br>\n",
    "Stefan Wapnick <br>\n",
    "Mohamed Amine <br>\n",
    "\n",
    "Inspired by the IFT6135-H19 PyTorch Tutorial"
   ]
  },
  {
   "cell_type": "markdown",
   "metadata": {
    "_uuid": "676084026fefe4774e07119bc419c8048893b64b"
   },
   "source": [
    "## Importing libraries"
   ]
  },
  {
   "cell_type": "code",
   "execution_count": 1,
   "metadata": {
    "_uuid": "b667ec81a4740ca08407d8f3dd41ea6c554a53ff"
   },
   "outputs": [],
   "source": [
    "import numpy as np\n",
    "import torch\n",
    "import torch.nn as nn\n",
    "import torch.nn.functional as F\n",
    "from torchvision import transforms, datasets\n",
    "import matplotlib.pyplot as plt\n",
    "import csv\n",
    "import os\n",
    "import pandas as pd"
   ]
  },
  {
   "cell_type": "markdown",
   "metadata": {
    "_uuid": "732fa64828a9f25f11619eaf4b0f24be8ce441dd"
   },
   "source": [
    "## Defining paremeters and variables"
   ]
  },
  {
   "cell_type": "code",
   "execution_count": 2,
   "metadata": {
    "_uuid": "42637d809acba97211b4ce4fa947b8a05f13e504"
   },
   "outputs": [
    {
     "name": "stdout",
     "output_type": "stream",
     "text": [
      "True\n"
     ]
    }
   ],
   "source": [
    "RUN_LOCAL = True\n",
    "VALID_RATIO = 0.2\n",
    "TRAIN_RATIO = 1.0 - VALID_RATIO\n",
    "LEARNING_RATE = 0.00001\n",
    "BATCH_SIZE = 64\n",
    "MAX_EPOCH = 150\n",
    "\n",
    "SAVE_MODEL = True  # Save model after each epoch\n",
    "LOAD_MODEL = False # Skip training phase\n",
    "\n",
    "if RUN_LOCAL:\n",
    "    TRAIN_IMG_DIR ='trainset/trainset'\n",
    "    TEST_IMG_DIR = 'testset/'\n",
    "else:\n",
    "    # Kaggle directory\n",
    "    TRAIN_IMG_DIR ='../input/trainset/trainset'\n",
    "    TEST_IMG_DIR = '../input/testset'\n",
    "\n",
    "cuda_available = torch.cuda.is_available()\n",
    "print(cuda_available)"
   ]
  },
  {
   "cell_type": "markdown",
   "metadata": {
    "_uuid": "8eaa725d81c23898183efaed3ecc242c7ec80e60"
   },
   "source": [
    "\n",
    "## Importing datasets and preprocessing\n",
    "1. Load training and testing images\n",
    "2. Data augmentation: the dataset size will be 5 times larger <br>\n",
    "    a) Horizontal flipping <br>\n",
    "    b) Vertical flipping <br>\n",
    "    c) Rotation <br>\n",
    "    d) Random combination of all of the above <br>\n",
    "3. Transform images into tensor so they could be processed\n",
    "4. Split dataset into training and validation set"
   ]
  },
  {
   "cell_type": "code",
   "execution_count": 3,
   "metadata": {
    "_uuid": "273162a06af07ae421cf68685bb645111e20ba60"
   },
   "outputs": [],
   "source": [
    "class ImageFolderWithPaths(datasets.ImageFolder):\n",
    "    \"\"\"Custom dataset that includes image file paths. Extends\n",
    "    torchvision.datasets.ImageFolder\n",
    "    \"\"\"\n",
    "\n",
    "    # override the __getitem__ method. this is the method dataloader calls\n",
    "    def __getitem__(self, index):\n",
    "        # this is what ImageFolder normally returns \n",
    "        original_tuple = super(ImageFolderWithPaths, self).__getitem__(index)\n",
    "        # the image file path\n",
    "        path = self.imgs[index][0]\n",
    "        # make a new tuple that includes original and the path\n",
    "        tuple_with_path = (original_tuple + (path,))\n",
    "        return tuple_with_path\n",
    "\n",
    "# Apply a combination of transforms on all images - 0.5 probability on horizontal and vertical flip\n",
    "image_transform = transforms.Compose([\n",
    "    transforms.RandomHorizontalFlip(),\n",
    "    transforms.RandomRotation(25),\n",
    "    transforms.ToTensor(),\n",
    "    transforms.Normalize((0.5,0.5,0.5), (0.5,0.5,0.5))\n",
    "])\n",
    "\n",
    "image_transform_test = transforms.Compose([  \n",
    "    transforms.ToTensor(),\n",
    "    transforms.Normalize((0.5,0.5,0.5), (0.5,0.5,0.5))\n",
    "])\n",
    "\n",
    "train_dataset = datasets.ImageFolder(root=TRAIN_IMG_DIR, transform=image_transform)\n",
    "\n",
    "dataset_size = len(train_dataset)\n",
    "train_size = int(TRAIN_RATIO*dataset_size)\n",
    "valid_size = dataset_size-train_size\n",
    "\n",
    "# Dataset splitting (validation - training)\n",
    "train_dataset, valid_dataset = torch.utils.data.random_split(train_dataset, [train_size, valid_size])\n",
    "\n",
    "\n",
    "trainset_loader = torch.utils.data.DataLoader(train_dataset, batch_size = BATCH_SIZE, shuffle=True,\n",
    "                                             num_workers=4)\n",
    "\n",
    "validset_loader = torch.utils.data.DataLoader(valid_dataset, batch_size = BATCH_SIZE, shuffle=True,\n",
    "                                             num_workers=4)\n",
    "\n",
    "\n",
    "test_dataset = ImageFolderWithPaths(root=TEST_IMG_DIR, transform=image_transform_test)\n",
    "test_loader = torch.utils.data.DataLoader(test_dataset, batch_size=1, shuffle=False,\n",
    "                                              num_workers=4)\n"
   ]
  },
  {
   "cell_type": "markdown",
   "metadata": {
    "_uuid": "6073f968355b3c5c93b78c85244c2354724d3cbb"
   },
   "source": [
    "# Showing some samples of the training set"
   ]
  },
  {
   "cell_type": "code",
   "execution_count": 4,
   "metadata": {
    "_uuid": "642a34e76a982b0be5d96e7e4e76517e5b6f8ece"
   },
   "outputs": [],
   "source": [
    "def imshow(img):\n",
    "    x, y = img\n",
    "    x = x.numpy().transpose((1, 2, 0))\n",
    "    print(x.shape)\n",
    "    plt.imshow(x)\n",
    "    if y == 0:\n",
    "        print('Meow!')\n",
    "    else:\n",
    "        print('Barf!')\n",
    "\n",
    "# plt.figure()  \n",
    "# plt.subplot(1,2,1)\n",
    "# imshow(train_dataset[10231])\n",
    "# plt.subplot(1,2,2)\n",
    "# imshow(valid_dataset[500])"
   ]
  },
  {
   "cell_type": "markdown",
   "metadata": {
    "_uuid": "04912f7dc2234f36c212ae5117c16a7a4e8942bc"
   },
   "source": [
    "## Defining CNN architecture"
   ]
  },
  {
   "cell_type": "code",
   "execution_count": 5,
   "metadata": {
    "_uuid": "87b5fe7a3abfd10c8b5206481d420f929cb2985e"
   },
   "outputs": [],
   "source": [
    "class Classifier(nn.Module):\n",
    "    def __init__(self):\n",
    "        super().__init__()\n",
    "        self.conv = nn.Sequential(\n",
    "            # Layer 1: Convolution - ReLU - Max pooling\n",
    "            nn.Conv2d(in_channels=3, out_channels=32, kernel_size=(3, 3), padding=1),\n",
    "            nn.ReLU(),\n",
    "            nn.MaxPool2d(kernel_size=(2, 2), stride=2),\n",
    "            \n",
    "            # Layer 2: Convolution - ReLU - Max pooling\n",
    "            nn.Conv2d(in_channels=32, out_channels=64, kernel_size=(3, 3), padding=1),\n",
    "            nn.ReLU(),\n",
    "            nn.MaxPool2d(kernel_size=(2, 2), stride=2),\n",
    "            \n",
    "            # Layer 3: Convolution - ReLU - Max pooling\n",
    "            nn.Conv2d(in_channels=64, out_channels=128, kernel_size=(3, 3), padding=1),\n",
    "            nn.ReLU(),\n",
    "            nn.MaxPool2d(kernel_size=(2, 2), stride=2),\n",
    "            \n",
    "            # Layer 4: Convolution - ReLU - Max pooling\n",
    "            nn.Conv2d(in_channels=128, out_channels=256, kernel_size=(3, 3), padding=1),\n",
    "            nn.ReLU(),\n",
    "            nn.MaxPool2d(kernel_size=(2, 2), stride=2)\n",
    "                     \n",
    "        )        \n",
    "        # Layer 4: Fully connected\n",
    "        self.fc1 = nn.Linear(256*4*4, 1024)\n",
    "        self.fc2 = nn.Linear(1024, 256)\n",
    "        self.fc3 = nn.Linear(256, 1)\n",
    "        \n",
    "    def forward(self, x):\n",
    "        temp = self.conv(x)\n",
    "        temp = temp.view(-1,256*4*4)\n",
    "        temp = F.relu(self.fc1(temp))\n",
    "        temp = F.relu(self.fc2(temp))\n",
    "        temp = F.relu(self.fc3(temp))\n",
    "        temp = torch.sigmoid(temp)\n",
    "        return temp\n",
    "    \n",
    "cnn = Classifier()\n",
    "if cuda_available:\n",
    "    cnn = cnn.cuda()\n",
    "\n",
    "optimizer = torch.optim.SGD(cnn.parameters(), lr=LEARNING_RATE)\n",
    "criterion = nn.BCELoss()"
   ]
  },
  {
   "cell_type": "markdown",
   "metadata": {
    "_uuid": "553465f60fc0d15dd6734331b472e31cc4050072"
   },
   "source": [
    "# Classifier training and validation"
   ]
  },
  {
   "cell_type": "code",
   "execution_count": 6,
   "metadata": {
    "_uuid": "6fcf32b8532515fb4aa05eb467f6185eec19d2c7",
    "scrolled": false
   },
   "outputs": [
    {
     "name": "stderr",
     "output_type": "stream",
     "text": [
      "/home/stetran/.conda/envs/pytorch/lib/python3.6/site-packages/ipykernel_launcher.py:20: UserWarning: To copy construct from a tensor, it is recommended to use sourceTensor.clone().detach() or sourceTensor.clone().detach().requires_grad_(True), rather than torch.tensor(sourceTensor).\n",
      "/home/stetran/.conda/envs/pytorch/lib/python3.6/site-packages/ipykernel_launcher.py:35: UserWarning: To copy construct from a tensor, it is recommended to use sourceTensor.clone().detach() or sourceTensor.clone().detach().requires_grad_(True), rather than torch.tensor(sourceTensor).\n",
      "/home/stetran/.conda/envs/pytorch/lib/python3.6/site-packages/ipykernel_launcher.py:65: UserWarning: To copy construct from a tensor, it is recommended to use sourceTensor.clone().detach() or sourceTensor.clone().detach().requires_grad_(True), rather than torch.tensor(sourceTensor).\n",
      "/home/stetran/.conda/envs/pytorch/lib/python3.6/site-packages/ipykernel_launcher.py:78: UserWarning: To copy construct from a tensor, it is recommended to use sourceTensor.clone().detach() or sourceTensor.clone().detach().requires_grad_(True), rather than torch.tensor(sourceTensor).\n"
     ]
    },
    {
     "name": "stdout",
     "output_type": "stream",
     "text": [
      "Epoch : 0 Test Acc : 49.225 Best epoch: 0 Best acc: 49.225\n",
      "------------------------------------------------------------------------------------\n",
      "Epoch : 1 Test Acc : 50.775 Best epoch: 1 Best acc: 50.775\n",
      "------------------------------------------------------------------------------------\n",
      "Epoch : 2 Test Acc : 50.775 Best epoch: 1 Best acc: 50.775\n",
      "------------------------------------------------------------------------------------\n",
      "Epoch : 3 Test Acc : 50.775 Best epoch: 1 Best acc: 50.775\n",
      "------------------------------------------------------------------------------------\n",
      "Epoch : 4 Test Acc : 50.775 Best epoch: 1 Best acc: 50.775\n",
      "------------------------------------------------------------------------------------\n",
      "Epoch : 5 Test Acc : 50.775 Best epoch: 1 Best acc: 50.775\n",
      "------------------------------------------------------------------------------------\n",
      "Epoch : 6 Test Acc : 50.775 Best epoch: 1 Best acc: 50.775\n",
      "------------------------------------------------------------------------------------\n",
      "Epoch : 7 Test Acc : 50.775 Best epoch: 1 Best acc: 50.775\n",
      "------------------------------------------------------------------------------------\n",
      "Epoch : 8 Test Acc : 50.775 Best epoch: 1 Best acc: 50.775\n",
      "------------------------------------------------------------------------------------\n",
      "Epoch : 9 Test Acc : 50.775 Best epoch: 1 Best acc: 50.775\n",
      "------------------------------------------------------------------------------------\n",
      "Epoch : 10 Test Acc : 50.775 Best epoch: 1 Best acc: 50.775\n",
      "------------------------------------------------------------------------------------\n",
      "Epoch : 11 Test Acc : 50.775 Best epoch: 1 Best acc: 50.775\n",
      "------------------------------------------------------------------------------------\n",
      "Epoch : 12 Test Acc : 50.775 Best epoch: 1 Best acc: 50.775\n",
      "------------------------------------------------------------------------------------\n",
      "Epoch : 13 Test Acc : 50.775 Best epoch: 1 Best acc: 50.775\n",
      "------------------------------------------------------------------------------------\n",
      "Epoch : 14 Test Acc : 50.775 Best epoch: 1 Best acc: 50.775\n",
      "------------------------------------------------------------------------------------\n",
      "Epoch : 15 Test Acc : 50.775 Best epoch: 1 Best acc: 50.775\n",
      "------------------------------------------------------------------------------------\n",
      "Epoch : 16 Test Acc : 50.775 Best epoch: 1 Best acc: 50.775\n",
      "------------------------------------------------------------------------------------\n",
      "Epoch : 17 Test Acc : 50.775 Best epoch: 1 Best acc: 50.775\n",
      "------------------------------------------------------------------------------------\n",
      "Epoch : 18 Test Acc : 50.775 Best epoch: 1 Best acc: 50.775\n",
      "------------------------------------------------------------------------------------\n",
      "Epoch : 19 Test Acc : 50.775 Best epoch: 1 Best acc: 50.775\n",
      "------------------------------------------------------------------------------------\n",
      "Epoch : 20 Test Acc : 50.775 Best epoch: 1 Best acc: 50.775\n",
      "------------------------------------------------------------------------------------\n",
      "Epoch : 21 Test Acc : 50.775 Best epoch: 1 Best acc: 50.775\n",
      "------------------------------------------------------------------------------------\n",
      "Epoch : 22 Test Acc : 50.775 Best epoch: 1 Best acc: 50.775\n",
      "------------------------------------------------------------------------------------\n",
      "Epoch : 23 Test Acc : 50.775 Best epoch: 1 Best acc: 50.775\n",
      "------------------------------------------------------------------------------------\n",
      "Epoch : 24 Test Acc : 50.775 Best epoch: 1 Best acc: 50.775\n",
      "------------------------------------------------------------------------------------\n",
      "Epoch : 25 Test Acc : 50.775 Best epoch: 1 Best acc: 50.775\n",
      "------------------------------------------------------------------------------------\n",
      "Epoch : 26 Test Acc : 50.775 Best epoch: 1 Best acc: 50.775\n",
      "------------------------------------------------------------------------------------\n",
      "Epoch : 27 Test Acc : 50.775 Best epoch: 1 Best acc: 50.775\n",
      "------------------------------------------------------------------------------------\n",
      "Epoch : 28 Test Acc : 50.775 Best epoch: 1 Best acc: 50.775\n",
      "------------------------------------------------------------------------------------\n",
      "Epoch : 29 Test Acc : 50.775 Best epoch: 1 Best acc: 50.775\n",
      "------------------------------------------------------------------------------------\n",
      "Epoch : 30 Test Acc : 50.775 Best epoch: 1 Best acc: 50.775\n",
      "------------------------------------------------------------------------------------\n",
      "Epoch : 31 Test Acc : 50.775 Best epoch: 1 Best acc: 50.775\n",
      "------------------------------------------------------------------------------------\n",
      "Epoch : 32 Test Acc : 50.775 Best epoch: 1 Best acc: 50.775\n",
      "------------------------------------------------------------------------------------\n",
      "Epoch : 33 Test Acc : 50.775 Best epoch: 1 Best acc: 50.775\n",
      "------------------------------------------------------------------------------------\n",
      "Epoch : 34 Test Acc : 50.775 Best epoch: 1 Best acc: 50.775\n",
      "------------------------------------------------------------------------------------\n",
      "Epoch : 35 Test Acc : 50.775 Best epoch: 1 Best acc: 50.775\n",
      "------------------------------------------------------------------------------------\n",
      "Epoch : 36 Test Acc : 50.775 Best epoch: 1 Best acc: 50.775\n",
      "------------------------------------------------------------------------------------\n",
      "Epoch : 37 Test Acc : 50.775 Best epoch: 1 Best acc: 50.775\n",
      "------------------------------------------------------------------------------------\n",
      "Epoch : 38 Test Acc : 50.775 Best epoch: 1 Best acc: 50.775\n",
      "------------------------------------------------------------------------------------\n",
      "Epoch : 39 Test Acc : 50.775 Best epoch: 1 Best acc: 50.775\n",
      "------------------------------------------------------------------------------------\n",
      "Epoch : 40 Test Acc : 50.775 Best epoch: 1 Best acc: 50.775\n",
      "------------------------------------------------------------------------------------\n",
      "Epoch : 41 Test Acc : 50.775 Best epoch: 1 Best acc: 50.775\n",
      "------------------------------------------------------------------------------------\n",
      "Epoch : 42 Test Acc : 50.775 Best epoch: 1 Best acc: 50.775\n",
      "------------------------------------------------------------------------------------\n",
      "Epoch : 43 Test Acc : 50.775 Best epoch: 1 Best acc: 50.775\n",
      "------------------------------------------------------------------------------------\n",
      "Epoch : 44 Test Acc : 50.775 Best epoch: 1 Best acc: 50.775\n",
      "------------------------------------------------------------------------------------\n",
      "Epoch : 45 Test Acc : 50.775 Best epoch: 1 Best acc: 50.775\n",
      "------------------------------------------------------------------------------------\n",
      "Epoch : 46 Test Acc : 50.775 Best epoch: 1 Best acc: 50.775\n",
      "------------------------------------------------------------------------------------\n",
      "Epoch : 47 Test Acc : 50.775 Best epoch: 1 Best acc: 50.775\n",
      "------------------------------------------------------------------------------------\n",
      "Epoch : 48 Test Acc : 50.775 Best epoch: 1 Best acc: 50.775\n",
      "------------------------------------------------------------------------------------\n",
      "Epoch : 49 Test Acc : 50.775 Best epoch: 1 Best acc: 50.775\n",
      "------------------------------------------------------------------------------------\n",
      "Epoch : 50 Test Acc : 50.775 Best epoch: 1 Best acc: 50.775\n",
      "------------------------------------------------------------------------------------\n",
      "Epoch : 51 Test Acc : 50.775 Best epoch: 1 Best acc: 50.775\n",
      "------------------------------------------------------------------------------------\n",
      "Epoch : 52 Test Acc : 50.775 Best epoch: 1 Best acc: 50.775\n",
      "------------------------------------------------------------------------------------\n",
      "Epoch : 53 Test Acc : 50.775 Best epoch: 1 Best acc: 50.775\n",
      "------------------------------------------------------------------------------------\n",
      "Epoch : 54 Test Acc : 50.775 Best epoch: 1 Best acc: 50.775\n",
      "------------------------------------------------------------------------------------\n",
      "Epoch : 55 Test Acc : 50.775 Best epoch: 1 Best acc: 50.775\n",
      "------------------------------------------------------------------------------------\n",
      "Epoch : 56 Test Acc : 50.775 Best epoch: 1 Best acc: 50.775\n",
      "------------------------------------------------------------------------------------\n"
     ]
    },
    {
     "name": "stdout",
     "output_type": "stream",
     "text": [
      "Epoch : 57 Test Acc : 50.775 Best epoch: 1 Best acc: 50.775\n",
      "------------------------------------------------------------------------------------\n",
      "Epoch : 58 Test Acc : 50.775 Best epoch: 1 Best acc: 50.775\n",
      "------------------------------------------------------------------------------------\n",
      "Epoch : 59 Test Acc : 50.775 Best epoch: 1 Best acc: 50.775\n",
      "------------------------------------------------------------------------------------\n",
      "Epoch : 60 Test Acc : 50.775 Best epoch: 1 Best acc: 50.775\n",
      "------------------------------------------------------------------------------------\n",
      "Epoch : 61 Test Acc : 50.775 Best epoch: 1 Best acc: 50.775\n",
      "------------------------------------------------------------------------------------\n",
      "Epoch : 62 Test Acc : 50.775 Best epoch: 1 Best acc: 50.775\n",
      "------------------------------------------------------------------------------------\n",
      "Epoch : 63 Test Acc : 50.775 Best epoch: 1 Best acc: 50.775\n",
      "------------------------------------------------------------------------------------\n",
      "Epoch : 64 Test Acc : 50.775 Best epoch: 1 Best acc: 50.775\n",
      "------------------------------------------------------------------------------------\n",
      "Epoch : 65 Test Acc : 50.775 Best epoch: 1 Best acc: 50.775\n",
      "------------------------------------------------------------------------------------\n",
      "Epoch : 66 Test Acc : 50.775 Best epoch: 1 Best acc: 50.775\n",
      "------------------------------------------------------------------------------------\n",
      "Epoch : 67 Test Acc : 50.775 Best epoch: 1 Best acc: 50.775\n",
      "------------------------------------------------------------------------------------\n",
      "Epoch : 68 Test Acc : 50.775 Best epoch: 1 Best acc: 50.775\n",
      "------------------------------------------------------------------------------------\n",
      "Epoch : 69 Test Acc : 50.775 Best epoch: 1 Best acc: 50.775\n",
      "------------------------------------------------------------------------------------\n",
      "Epoch : 70 Test Acc : 50.775 Best epoch: 1 Best acc: 50.775\n",
      "------------------------------------------------------------------------------------\n",
      "Epoch : 71 Test Acc : 50.775 Best epoch: 1 Best acc: 50.775\n",
      "------------------------------------------------------------------------------------\n",
      "Epoch : 72 Test Acc : 50.775 Best epoch: 1 Best acc: 50.775\n",
      "------------------------------------------------------------------------------------\n",
      "Epoch : 73 Test Acc : 50.775 Best epoch: 1 Best acc: 50.775\n",
      "------------------------------------------------------------------------------------\n",
      "Epoch : 74 Test Acc : 50.775 Best epoch: 1 Best acc: 50.775\n",
      "------------------------------------------------------------------------------------\n",
      "Epoch : 75 Test Acc : 50.775 Best epoch: 1 Best acc: 50.775\n",
      "------------------------------------------------------------------------------------\n",
      "Epoch : 76 Test Acc : 50.775 Best epoch: 1 Best acc: 50.775\n",
      "------------------------------------------------------------------------------------\n",
      "Epoch : 77 Test Acc : 50.775 Best epoch: 1 Best acc: 50.775\n",
      "------------------------------------------------------------------------------------\n",
      "Epoch : 78 Test Acc : 50.775 Best epoch: 1 Best acc: 50.775\n",
      "------------------------------------------------------------------------------------\n",
      "Epoch : 79 Test Acc : 50.775 Best epoch: 1 Best acc: 50.775\n",
      "------------------------------------------------------------------------------------\n",
      "Epoch : 80 Test Acc : 50.775 Best epoch: 1 Best acc: 50.775\n",
      "------------------------------------------------------------------------------------\n",
      "Epoch : 81 Test Acc : 50.775 Best epoch: 1 Best acc: 50.775\n",
      "------------------------------------------------------------------------------------\n",
      "Epoch : 82 Test Acc : 50.775 Best epoch: 1 Best acc: 50.775\n",
      "------------------------------------------------------------------------------------\n",
      "Epoch : 83 Test Acc : 50.775 Best epoch: 1 Best acc: 50.775\n",
      "------------------------------------------------------------------------------------\n",
      "Epoch : 84 Test Acc : 50.775 Best epoch: 1 Best acc: 50.775\n",
      "------------------------------------------------------------------------------------\n",
      "Epoch : 85 Test Acc : 50.775 Best epoch: 1 Best acc: 50.775\n",
      "------------------------------------------------------------------------------------\n",
      "Epoch : 86 Test Acc : 50.775 Best epoch: 1 Best acc: 50.775\n",
      "------------------------------------------------------------------------------------\n",
      "Epoch : 87 Test Acc : 50.775 Best epoch: 1 Best acc: 50.775\n",
      "------------------------------------------------------------------------------------\n",
      "Epoch : 88 Test Acc : 50.775 Best epoch: 1 Best acc: 50.775\n",
      "------------------------------------------------------------------------------------\n",
      "Epoch : 89 Test Acc : 50.775 Best epoch: 1 Best acc: 50.775\n",
      "------------------------------------------------------------------------------------\n",
      "Epoch : 90 Test Acc : 50.775 Best epoch: 1 Best acc: 50.775\n",
      "------------------------------------------------------------------------------------\n",
      "Epoch : 91 Test Acc : 50.775 Best epoch: 1 Best acc: 50.775\n",
      "------------------------------------------------------------------------------------\n",
      "Epoch : 92 Test Acc : 50.775 Best epoch: 1 Best acc: 50.775\n",
      "------------------------------------------------------------------------------------\n",
      "Epoch : 93 Test Acc : 50.775 Best epoch: 1 Best acc: 50.775\n",
      "------------------------------------------------------------------------------------\n",
      "Epoch : 94 Test Acc : 50.775 Best epoch: 1 Best acc: 50.775\n",
      "------------------------------------------------------------------------------------\n",
      "Epoch : 95 Test Acc : 50.775 Best epoch: 1 Best acc: 50.775\n",
      "------------------------------------------------------------------------------------\n",
      "Epoch : 96 Test Acc : 50.775 Best epoch: 1 Best acc: 50.775\n",
      "------------------------------------------------------------------------------------\n",
      "Epoch : 97 Test Acc : 50.775 Best epoch: 1 Best acc: 50.775\n",
      "------------------------------------------------------------------------------------\n",
      "Epoch : 98 Test Acc : 50.775 Best epoch: 1 Best acc: 50.775\n",
      "------------------------------------------------------------------------------------\n",
      "Epoch : 99 Test Acc : 50.775 Best epoch: 1 Best acc: 50.775\n",
      "------------------------------------------------------------------------------------\n",
      "Epoch : 100 Test Acc : 50.775 Best epoch: 1 Best acc: 50.775\n",
      "------------------------------------------------------------------------------------\n",
      "Epoch : 101 Test Acc : 50.775 Best epoch: 1 Best acc: 50.775\n",
      "------------------------------------------------------------------------------------\n",
      "Epoch : 102 Test Acc : 50.775 Best epoch: 1 Best acc: 50.775\n",
      "------------------------------------------------------------------------------------\n",
      "Epoch : 103 Test Acc : 50.775 Best epoch: 1 Best acc: 50.775\n",
      "------------------------------------------------------------------------------------\n",
      "Epoch : 104 Test Acc : 50.775 Best epoch: 1 Best acc: 50.775\n",
      "------------------------------------------------------------------------------------\n",
      "Epoch : 105 Test Acc : 50.775 Best epoch: 1 Best acc: 50.775\n",
      "------------------------------------------------------------------------------------\n",
      "Epoch : 106 Test Acc : 50.775 Best epoch: 1 Best acc: 50.775\n",
      "------------------------------------------------------------------------------------\n",
      "Epoch : 107 Test Acc : 50.775 Best epoch: 1 Best acc: 50.775\n",
      "------------------------------------------------------------------------------------\n",
      "Epoch : 108 Test Acc : 50.775 Best epoch: 1 Best acc: 50.775\n",
      "------------------------------------------------------------------------------------\n",
      "Epoch : 109 Test Acc : 50.775 Best epoch: 1 Best acc: 50.775\n",
      "------------------------------------------------------------------------------------\n",
      "Epoch : 110 Test Acc : 50.775 Best epoch: 1 Best acc: 50.775\n",
      "------------------------------------------------------------------------------------\n",
      "Epoch : 111 Test Acc : 50.775 Best epoch: 1 Best acc: 50.775\n",
      "------------------------------------------------------------------------------------\n",
      "Epoch : 112 Test Acc : 50.775 Best epoch: 1 Best acc: 50.775\n",
      "------------------------------------------------------------------------------------\n",
      "Epoch : 113 Test Acc : 50.775 Best epoch: 1 Best acc: 50.775\n",
      "------------------------------------------------------------------------------------\n"
     ]
    },
    {
     "name": "stdout",
     "output_type": "stream",
     "text": [
      "Epoch : 114 Test Acc : 50.775 Best epoch: 1 Best acc: 50.775\n",
      "------------------------------------------------------------------------------------\n",
      "Epoch : 115 Test Acc : 50.775 Best epoch: 1 Best acc: 50.775\n",
      "------------------------------------------------------------------------------------\n",
      "Epoch : 116 Test Acc : 50.775 Best epoch: 1 Best acc: 50.775\n",
      "------------------------------------------------------------------------------------\n",
      "Epoch : 117 Test Acc : 50.775 Best epoch: 1 Best acc: 50.775\n",
      "------------------------------------------------------------------------------------\n",
      "Epoch : 118 Test Acc : 50.775 Best epoch: 1 Best acc: 50.775\n",
      "------------------------------------------------------------------------------------\n",
      "Epoch : 119 Test Acc : 50.775 Best epoch: 1 Best acc: 50.775\n",
      "------------------------------------------------------------------------------------\n",
      "Epoch : 120 Test Acc : 50.775 Best epoch: 1 Best acc: 50.775\n",
      "------------------------------------------------------------------------------------\n",
      "Epoch : 121 Test Acc : 50.775 Best epoch: 1 Best acc: 50.775\n",
      "------------------------------------------------------------------------------------\n",
      "Epoch : 122 Test Acc : 50.775 Best epoch: 1 Best acc: 50.775\n",
      "------------------------------------------------------------------------------------\n",
      "Epoch : 123 Test Acc : 50.775 Best epoch: 1 Best acc: 50.775\n",
      "------------------------------------------------------------------------------------\n",
      "Epoch : 124 Test Acc : 50.775 Best epoch: 1 Best acc: 50.775\n",
      "------------------------------------------------------------------------------------\n",
      "Epoch : 125 Test Acc : 50.775 Best epoch: 1 Best acc: 50.775\n",
      "------------------------------------------------------------------------------------\n",
      "Epoch : 126 Test Acc : 50.775 Best epoch: 1 Best acc: 50.775\n",
      "------------------------------------------------------------------------------------\n",
      "Epoch : 127 Test Acc : 50.775 Best epoch: 1 Best acc: 50.775\n",
      "------------------------------------------------------------------------------------\n",
      "Epoch : 128 Test Acc : 50.775 Best epoch: 1 Best acc: 50.775\n",
      "------------------------------------------------------------------------------------\n",
      "Epoch : 129 Test Acc : 50.775 Best epoch: 1 Best acc: 50.775\n",
      "------------------------------------------------------------------------------------\n",
      "Epoch : 130 Test Acc : 50.775 Best epoch: 1 Best acc: 50.775\n",
      "------------------------------------------------------------------------------------\n",
      "Epoch : 131 Test Acc : 50.775 Best epoch: 1 Best acc: 50.775\n",
      "------------------------------------------------------------------------------------\n",
      "Epoch : 132 Test Acc : 50.775 Best epoch: 1 Best acc: 50.775\n",
      "------------------------------------------------------------------------------------\n",
      "Epoch : 133 Test Acc : 50.775 Best epoch: 1 Best acc: 50.775\n",
      "------------------------------------------------------------------------------------\n",
      "Epoch : 134 Test Acc : 50.775 Best epoch: 1 Best acc: 50.775\n",
      "------------------------------------------------------------------------------------\n",
      "Epoch : 135 Test Acc : 50.775 Best epoch: 1 Best acc: 50.775\n",
      "------------------------------------------------------------------------------------\n",
      "Epoch : 136 Test Acc : 50.775 Best epoch: 1 Best acc: 50.775\n",
      "------------------------------------------------------------------------------------\n",
      "Epoch : 137 Test Acc : 50.775 Best epoch: 1 Best acc: 50.775\n",
      "------------------------------------------------------------------------------------\n",
      "Epoch : 138 Test Acc : 50.775 Best epoch: 1 Best acc: 50.775\n",
      "------------------------------------------------------------------------------------\n",
      "Epoch : 139 Test Acc : 50.775 Best epoch: 1 Best acc: 50.775\n",
      "------------------------------------------------------------------------------------\n",
      "Epoch : 140 Test Acc : 50.775 Best epoch: 1 Best acc: 50.775\n",
      "------------------------------------------------------------------------------------\n",
      "Epoch : 141 Test Acc : 50.775 Best epoch: 1 Best acc: 50.775\n",
      "------------------------------------------------------------------------------------\n",
      "Epoch : 142 Test Acc : 50.775 Best epoch: 1 Best acc: 50.775\n",
      "------------------------------------------------------------------------------------\n",
      "Epoch : 143 Test Acc : 50.775 Best epoch: 1 Best acc: 50.775\n",
      "------------------------------------------------------------------------------------\n",
      "Epoch : 144 Test Acc : 50.775 Best epoch: 1 Best acc: 50.775\n",
      "------------------------------------------------------------------------------------\n",
      "Epoch : 145 Test Acc : 50.775 Best epoch: 1 Best acc: 50.775\n",
      "------------------------------------------------------------------------------------\n",
      "Epoch : 146 Test Acc : 50.775 Best epoch: 1 Best acc: 50.775\n",
      "------------------------------------------------------------------------------------\n",
      "Epoch : 147 Test Acc : 50.775 Best epoch: 1 Best acc: 50.775\n",
      "------------------------------------------------------------------------------------\n",
      "Epoch : 148 Test Acc : 50.775 Best epoch: 1 Best acc: 50.775\n",
      "------------------------------------------------------------------------------------\n",
      "Epoch : 149 Test Acc : 50.775 Best epoch: 1 Best acc: 50.775\n",
      "------------------------------------------------------------------------------------\n"
     ]
    }
   ],
   "source": [
    "best_epoch = 0\n",
    "best_acc = 0\n",
    "log_train_loss = []\n",
    "log_train_acc = []\n",
    "log_valid_loss = []\n",
    "log_valid_acc = []\n",
    "    \n",
    "for epoch in range(MAX_EPOCH):\n",
    "    \n",
    "    losses = []\n",
    "\n",
    "    total = 0\n",
    "    correct = 0\n",
    "    \n",
    "    ##### TRAINING PHASE ####\n",
    "    # Set the model in training mode  \n",
    "    for batch_idx, (inputs, labels) in enumerate(trainset_loader):\n",
    "        \n",
    "        # Data conversion to float and cuda\n",
    "        labels_flt = torch.tensor(labels, dtype=torch.float)\n",
    "        if cuda_available:\n",
    "            inputs, labels_flt, labels = inputs.cuda(), labels_flt.cuda(), labels.cuda()\n",
    "            \n",
    "        # Compute forward phase\n",
    "        outputs = cnn(inputs).squeeze()\n",
    "        \n",
    "        # Compute training loss (Binary Cross Entropy)\n",
    "        loss = criterion(outputs, labels_flt)\n",
    "        losses.append(loss.data.item())\n",
    "        \n",
    "        # Prediction: since the output is between 0 and 1 du to sigmoid activation function, the\n",
    "        # prediction value will be 0 when the output is [0,0.5] and 1 when it is ]0.5,1]\n",
    "        predicted = outputs > 0.5\n",
    "        if cuda_available:\n",
    "            predicted = torch.tensor(predicted, dtype=torch.long).cuda()\n",
    "        else:\n",
    "            predicted = torch.tensor(predicted, dtype=torch.long)\n",
    "        \n",
    "        # Compute training accuracy\n",
    "        total += labels.size(0)\n",
    "        correct += (predicted == labels).sum().item()\n",
    "        train_acc = 100*correct/total\n",
    "        \n",
    "        # Backward propagation\n",
    "        loss.backward()\n",
    "        optimizer.step()\n",
    "   \n",
    "    # Log the training loss and accuracy with respect to the epoch number\n",
    "    log_train_loss.append([epoch,np.mean(losses)])\n",
    "    log_train_acc.append([epoch,train_acc])\n",
    "    \n",
    "    # Save model into a file for later use\n",
    "    if SAVE_MODEL:\n",
    "        torch.save(cnn.state_dict(), \"CNN{0:03d}.pwf\".format(epoch)) \n",
    "    \n",
    "    \n",
    "    ##### VALIDATION PHASE ####\n",
    "    total = 0\n",
    "    correct = 0    \n",
    "\n",
    "    # Set the model in evaluation mode\n",
    "    with torch.no_grad():    \n",
    "        for batch_idx, (inputs, labels) in enumerate(validset_loader):\n",
    "            # Data conversion to float and cuda\n",
    "            labels_flt = torch.tensor(labels, dtype=torch.float)\n",
    "            if cuda_available:\n",
    "                inputs, labels_flt, labels = inputs.cuda(), labels_flt.cuda(), labels.cuda()\n",
    "\n",
    "            # Compute forward phase\n",
    "            outputs = cnn(inputs).squeeze()   \n",
    "\n",
    "            # Compute validation loss (Binary Cross Entropy)\n",
    "            loss = criterion(outputs, labels_flt)\n",
    "            losses.append(loss.data.item())        \n",
    "\n",
    "            # Prediction\n",
    "            predicted = outputs > 0.5\n",
    "            predicted = torch.tensor(predicted, dtype=torch.long).cuda()\n",
    "\n",
    "            # Compute training accuracy\n",
    "            total += labels.size(0)\n",
    "            correct += (predicted == labels).sum().item()\n",
    "            valid_acc = 100*correct/total\n",
    "        \n",
    "    # Log the training loss and accuracy with respect to the epoch number\n",
    "    log_valid_loss.append([epoch,np.mean(losses)])\n",
    "    log_valid_acc.append([epoch,valid_acc])\n",
    "    \n",
    "    if valid_acc > best_acc:\n",
    "        best_epoch = epoch\n",
    "        best_acc = valid_acc      \n",
    "    print('Epoch : %d Test Acc : %.3f Best epoch: %d Best acc: %.3f' % (epoch, valid_acc , best_epoch, best_acc))\n",
    "    print('------------------------------------------------------------------------------------')\n",
    "\n",
    "    \n",
    "log_train_loss = np.swapaxes(np.asarray(log_train_loss),0,1)\n",
    "log_train_acc = np.swapaxes(np.asarray(log_train_acc),0,1)\n",
    "log_valid_loss = np.swapaxes(np.asarray(log_valid_loss),0,1)\n",
    "log_valid_acc = np.swapaxes(np.asarray(log_valid_acc),0,1)"
   ]
  },
  {
   "cell_type": "markdown",
   "metadata": {},
   "source": [
    "## Plot training and validation loss/accuracy"
   ]
  },
  {
   "cell_type": "code",
   "execution_count": 7,
   "metadata": {},
   "outputs": [
    {
     "data": {
      "image/png": "[encoded data removed]",
      "text/plain": [
       "<Figure size 432x288 with 1 Axes>"
      ]
     },
     "metadata": {
      "needs_background": "light"
     },
     "output_type": "display_data"
    },
    {
     "data": {
      "image/png": "[encoded data removed]",
      "text/plain": [
       "<Figure size 432x288 with 1 Axes>"
      ]
     },
     "metadata": {
      "needs_background": "light"
     },
     "output_type": "display_data"
    },
    {
     "data": {
      "image/png": "[encoded data removed]",
      "text/plain": [
       "<Figure size 432x288 with 1 Axes>"
      ]
     },
     "metadata": {
      "needs_background": "light"
     },
     "output_type": "display_data"
    },
    {
     "data": {
      "image/png": "[encoded data removed]",
      "text/plain": [
       "<Figure size 432x288 with 1 Axes>"
      ]
     },
     "metadata": {
      "needs_background": "light"
     },
     "output_type": "display_data"
    }
   ],
   "source": [
    "plt.figure(1)\n",
    "plt.plot(log_train_loss[0], log_train_loss[1])\n",
    "plt.xlabel('Epochs')\n",
    "plt.ylabel('Loss')\n",
    "plt.title('Training loss')\n",
    "\n",
    "plt.figure(2)\n",
    "plt.plot(log_train_acc[0], log_train_acc[1])\n",
    "plt.xlabel('Epochs')\n",
    "plt.ylabel('%')\n",
    "plt.title('Training accuracy')\n",
    "\n",
    "plt.figure(3)\n",
    "plt.plot(log_valid_loss[0], log_valid_loss[1])\n",
    "plt.xlabel('Epochs')\n",
    "plt.ylabel('Loss')\n",
    "plt.title('Validation loss')\n",
    "\n",
    "plt.figure(4)\n",
    "plt.plot(log_valid_acc[0], log_valid_acc[1])\n",
    "plt.xlabel('Epochs')\n",
    "plt.ylabel('%')\n",
    "plt.title('Validation accuracy')\n",
    "\n",
    "plt.show()\n"
   ]
  },
  {
   "cell_type": "markdown",
   "metadata": {
    "_uuid": "2a0fae2e740fcdf914db385727b3d3e53c5a489e"
   },
   "source": [
    "## Predicting test dataset"
   ]
  },
  {
   "cell_type": "code",
   "execution_count": 8,
   "metadata": {
    "_uuid": "a4205efe315c2e2b7bb4834d0ee0539fc66c81a8"
   },
   "outputs": [
    {
     "name": "stderr",
     "output_type": "stream",
     "text": [
      "/home/stetran/.conda/envs/pytorch/lib/python3.6/site-packages/ipykernel_launcher.py:11: UserWarning: To copy construct from a tensor, it is recommended to use sourceTensor.clone().detach() or sourceTensor.clone().detach().requires_grad_(True), rather than torch.tensor(sourceTensor).\n",
      "  # This is added back by InteractiveShellApp.init_path()\n"
     ]
    }
   ],
   "source": [
    "header = ['id', 'label']\n",
    "prediction = []\n",
    "\n",
    "with torch.no_grad(): \n",
    "    for batch_idx, (inputs, labels, paths) in enumerate(test_loader):\n",
    "        if cuda_available:\n",
    "            inputs, labels = inputs.cuda(), labels.cuda()   \n",
    "        outputs = cnn(inputs)\n",
    "        _, predicted = torch.max(outputs.data, 1)\n",
    "        predicted = outputs > 0.5\n",
    "        predicted = torch.tensor(predicted, dtype=torch.long).cuda()    \n",
    "\n",
    "        filename = os.path.basename(paths[0])\n",
    "        filename = os.path.splitext(filename)[0]\n",
    "\n",
    "        if predicted == 0:\n",
    "            data_out = [filename, 'Cat']\n",
    "        else:\n",
    "            data_out = [filename, 'Dog']\n",
    "        prediction.append(data_out)\n",
    "\n",
    "# # Write prediction to file    \n",
    "# with open('submission.csv', 'wt', newline='') as csvFile:\n",
    "#     writer = csv.writer(csvFile)\n",
    "#     writer.writerow(i for i in header)\n",
    "#     writer.writerows(prediction)\n",
    "# csvFile.close()\n",
    "\n",
    "image_name = np.asarray(prediction)[:,0]\n",
    "label = np.asarray(prediction)[:,1]\n",
    "submission = pd.DataFrame({ 'id': image_name, 'label': label })\n",
    "submission.to_csv(\"my_submission.csv\", index=False)\n",
    "    "
   ]
  },
  {
   "cell_type": "code",
   "execution_count": 9,
   "metadata": {
    "_uuid": "7240b03287c7f1637396de8996cc0e0c5b481be6"
   },
   "outputs": [],
   "source": [
    "image_name = np.asarray(prediction)[:,0]\n",
    "label = np.asarray(prediction)[:,1]\n",
    "submission = pd.DataFrame({ 'id': image_name, 'label': label })\n",
    "submission.to_csv(\"my_submission.csv\", index=False)"
   ]
  },
  {
   "cell_type": "code",
   "execution_count": null,
   "metadata": {},
   "outputs": [],
   "source": []
  }
 ],
 "metadata": {
  "kernelspec": {
   "display_name": "Python 3",
   "language": "python",
   "name": "python3"
  },
  "language_info": {
   "codemirror_mode": {
    "name": "ipython",
    "version": 3
   },
   "file_extension": ".py",
   "mimetype": "text/x-python",
   "name": "python",
   "nbconvert_exporter": "python",
   "pygments_lexer": "ipython3",
   "version": "3.6.8"
  }
 },
 "nbformat": 4,
 "nbformat_minor": 1
}
